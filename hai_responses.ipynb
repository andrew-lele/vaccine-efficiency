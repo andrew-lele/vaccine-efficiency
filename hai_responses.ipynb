{
 "cells": [
  {
   "cell_type": "markdown",
   "metadata": {},
   "source": []
  },
  {
   "cell_type": "code",
   "execution_count": 1,
   "metadata": {
    "collapsed": true
   },
   "outputs": [],
   "source": [
    "import os\n",
    "import pandas as pd\n",
    "import seaborn as sns\n",
    "import mysql.connector\n",
    "from sqlalchemy import create_engine\n",
    "from sqlalchemy import (Column, DateTime, Integer, Numeric, Float, String, Text)\n",
    "\n",
    "# %matplotlib inline\n",
    "import matplotlib.pyplot as plt\n",
    "import numpy as np\n",
    "from scipy.stats.mstats import gmean"
   ]
  },
  {
   "cell_type": "code",
   "execution_count": 2,
   "metadata": {
    "collapsed": true
   },
   "outputs": [],
   "source": [
    "immport_user = os.getenv(\"IMMPORT_USER\",\"USER\")\n",
    "immport_password = os.getenv(\"IMMPORT_PASSWORD\",\"PASSWORD\")\n",
    "immport_database = os.getenv(\"IMMPORT_DATABASE\",\"DR26\")\n",
    "immport_host = os.getenv(\"IMMPORT_HOST\",\"127.0.0.1\")"
   ]
  },
  {
   "cell_type": "code",
   "execution_count": 3,
   "metadata": {
    "collapsed": true
   },
   "outputs": [],
   "source": [
    "conn1 = f\"mysql+mysqlconnector://{immport_user}:{immport_password}@{immport_host}:3306/{immport_database}\"\n",
    "immportConn = create_engine(conn1, connect_args={'connect_timeout': 120 }, echo=False)\n"
   ]
  },
  {
   "cell_type": "code",
   "execution_count": 104,
   "metadata": {},
   "outputs": [
    {
     "name": "stdout",
     "output_type": "stream",
     "text": [
      "  subject_accession study_accession  study_time_collected  value_preferred  \\\n",
      "0         SUB112832          SDY269                   0.0             20.0   \n",
      "1         SUB112832          SDY269                  28.0             20.0   \n",
      "2         SUB112832          SDY269                   0.0              5.0   \n",
      "3         SUB112832          SDY269                  28.0              5.0   \n",
      "4         SUB112832          SDY269                   0.0              5.0   \n",
      "5         SUB112832          SDY269                  28.0              5.0   \n",
      "6         SUB112832           SDY61                   0.0             40.0   \n",
      "7         SUB112832           SDY61                  28.0            640.0   \n",
      "8         SUB112832           SDY61                   0.0              5.0   \n",
      "9         SUB112832           SDY61                  28.0            160.0   \n",
      "\n",
      "     virus_strain_preferred  \n",
      "0        A/Brisbane/59/2007  \n",
      "1        A/Brisbane/59/2007  \n",
      "2        A/Uruguay/716/2007  \n",
      "3        A/Uruguay/716/2007  \n",
      "4        B/Brisbane/03/2007  \n",
      "5        B/Brisbane/03/2007  \n",
      "6  A/Solomon Islands/3/2006  \n",
      "7  A/Solomon Islands/3/2006  \n",
      "8       A/Wisconsin/67/2005  \n",
      "9       A/Wisconsin/67/2005  \n"
     ]
    }
   ],
   "source": [
    "sql = f'''\n",
    "SELECT va.subject_accession, va.study_accession, va.study_time_collected,  va.value_preferred, va.virus_strain_preferred\n",
    "FROM vaccine_analysis va\n",
    "ORDER BY va.subject_accession, va.study_accession, va.virus_strain_preferred, va.study_time_collected\n",
    "'''\n",
    "\n",
    "hai_result = pd.read_sql(sql, immportConn)\n",
    "hai_result.head(10)\n",
    "print(hai_result.head(10))\n",
    "# print(hai_result['virus_strain_preferred'], hai_result['subject_accession'])\n"
   ]
  },
  {
   "cell_type": "code",
   "execution_count": 122,
   "metadata": {},
   "outputs": [
    {
     "ename": "SyntaxError",
     "evalue": "can't assign to function call (<ipython-input-122-ca4c9011810d>, line 2)",
     "output_type": "error",
     "traceback": [
      "\u001b[0;36m  File \u001b[0;32m\"<ipython-input-122-ca4c9011810d>\"\u001b[0;36m, line \u001b[0;32m2\u001b[0m\n\u001b[0;31m    days = [x for str(x) in days]\u001b[0m\n\u001b[0m                 ^\u001b[0m\n\u001b[0;31mSyntaxError\u001b[0m\u001b[0;31m:\u001b[0m can't assign to function call\n"
     ]
    }
   ],
   "source": [
    "days = set(hai_result[\"study_time_collected\"])\n",
    "days = [x for x in days]\n",
    "subject_by_day = []\n",
    "#make a list of studies, seperated by day \n",
    "for i in days:\n",
    "    temp = hai_result[hai_result['study_time_collected'] == i].copy()\n",
    "    subject_by_day.append(temp)\n",
    "    \n",
    "# print(subject_by_day)\n",
    "# print(subject_by_day[0]['subject_accession'])\n",
    "\n",
    "#turn everything into a pandas dataframe\n",
    "\n",
    "df = pd.DataFrame(subject_by_day)\n",
    "# print(df.head(15))\n",
    "\n",
    "# print(df[0][3]['virus_strain_preferred'])\n",
    "\n",
    "print(str(df[0][0]['virus_strain_preferred']))\n",
    "?\n",
    "\n",
    "if str(df[0][0]['virus_strain_preferred']) == 'A/Uruguay/716/2007':\n",
    "    print('hi')\n",
    "\n",
    "#join the tables\n",
    "\n",
    "# merger = ['subject_accession','virus_strain_preferred']\n",
    "# new = pd.merge(subject_by_day, left_on=merger, right_on=merger)\n",
    "\n",
    "# print(new)"
   ]
  },
  {
   "cell_type": "code",
   "execution_count": 93,
   "metadata": {},
   "outputs": [
    {
     "name": "stdout",
     "output_type": "stream",
     "text": [
      "['B/Malaysia/2506/2004', 'B/Florida/4/2006', 'A/Brisbane/59/2007', 'A/Uruguay/716/2007', 'B/Massachusetts/02/2012', 'A/Perth/16/2009', 'B/Lee/1940', 'B/Brisbane/60/2008', 'A/Victoria/361/2011', None, 'A/Texas/50/2012', 'A/South Dakota/06/2007', 'A/Brisbane/10/2007', 'A/Victoria/3/1975', 'A/Wisconsin/67/2005', 'A/California/7/2009', 'A/Solomon Islands/3/2006', 'B/Wisconsin/01/2010', 'B/Brisbane/03/2007']\n"
     ]
    }
   ],
   "source": [
    "strains = set(hai_result[\"virus_strain_preferred\"])\n",
    "strains = [x for x in strains]\n",
    "print(strains)\n",
    "\n",
    "subj = set(hai_result[\"virus_strain_preferred\"])\n",
    "subj = [x for x in subj]"
   ]
  },
  {
   "cell_type": "code",
   "execution_count": 109,
   "metadata": {},
   "outputs": [
    {
     "ename": "AttributeError",
     "evalue": "'Series' object has no attribute 'unique_counts'",
     "output_type": "error",
     "traceback": [
      "\u001b[0;31m---------------------------------------------------------------------------\u001b[0m",
      "\u001b[0;31mAttributeError\u001b[0m                            Traceback (most recent call last)",
      "\u001b[0;32m<ipython-input-109-313a32fc8c9b>\u001b[0m in \u001b[0;36m<module>\u001b[0;34m()\u001b[0m\n\u001b[0;32m----> 1\u001b[0;31m \u001b[0mhai_result\u001b[0m\u001b[0;34m[\u001b[0m\u001b[0;34m\"study_time_collected\"\u001b[0m\u001b[0;34m]\u001b[0m\u001b[0;34m.\u001b[0m\u001b[0munique_counts\u001b[0m\u001b[0;34m(\u001b[0m\u001b[0;34m)\u001b[0m\u001b[0;34m\u001b[0m\u001b[0m\n\u001b[0m",
      "\u001b[0;32m/home/ale/anaconda3/lib/python3.6/site-packages/pandas/core/generic.py\u001b[0m in \u001b[0;36m__getattr__\u001b[0;34m(self, name)\u001b[0m\n\u001b[1;32m   2968\u001b[0m             \u001b[0;32mif\u001b[0m \u001b[0mname\u001b[0m \u001b[0;32min\u001b[0m \u001b[0mself\u001b[0m\u001b[0;34m.\u001b[0m\u001b[0m_info_axis\u001b[0m\u001b[0;34m:\u001b[0m\u001b[0;34m\u001b[0m\u001b[0m\n\u001b[1;32m   2969\u001b[0m                 \u001b[0;32mreturn\u001b[0m \u001b[0mself\u001b[0m\u001b[0;34m[\u001b[0m\u001b[0mname\u001b[0m\u001b[0;34m]\u001b[0m\u001b[0;34m\u001b[0m\u001b[0m\n\u001b[0;32m-> 2970\u001b[0;31m             \u001b[0;32mreturn\u001b[0m \u001b[0mobject\u001b[0m\u001b[0;34m.\u001b[0m\u001b[0m__getattribute__\u001b[0m\u001b[0;34m(\u001b[0m\u001b[0mself\u001b[0m\u001b[0;34m,\u001b[0m \u001b[0mname\u001b[0m\u001b[0;34m)\u001b[0m\u001b[0;34m\u001b[0m\u001b[0m\n\u001b[0m\u001b[1;32m   2971\u001b[0m \u001b[0;34m\u001b[0m\u001b[0m\n\u001b[1;32m   2972\u001b[0m     \u001b[0;32mdef\u001b[0m \u001b[0m__setattr__\u001b[0m\u001b[0;34m(\u001b[0m\u001b[0mself\u001b[0m\u001b[0;34m,\u001b[0m \u001b[0mname\u001b[0m\u001b[0;34m,\u001b[0m \u001b[0mvalue\u001b[0m\u001b[0;34m)\u001b[0m\u001b[0;34m:\u001b[0m\u001b[0;34m\u001b[0m\u001b[0m\n",
      "\u001b[0;31mAttributeError\u001b[0m: 'Series' object has no attribute 'unique_counts'"
     ]
    }
   ],
   "source": [
    "hai_result[\"study_time_collected\"]()\n"
   ]
  },
  {
   "cell_type": "code",
   "execution_count": 126,
   "metadata": {},
   "outputs": [
    {
     "data": {
      "text/html": [
       "<div>\n",
       "<style>\n",
       "    .dataframe thead tr:only-child th {\n",
       "        text-align: right;\n",
       "    }\n",
       "\n",
       "    .dataframe thead th {\n",
       "        text-align: left;\n",
       "    }\n",
       "\n",
       "    .dataframe tbody tr th {\n",
       "        vertical-align: top;\n",
       "    }\n",
       "</style>\n",
       "<table border=\"1\" class=\"dataframe\">\n",
       "  <thead>\n",
       "    <tr style=\"text-align: right;\">\n",
       "      <th></th>\n",
       "      <th>subject_accession</th>\n",
       "      <th>virus_strain_preferred</th>\n",
       "    </tr>\n",
       "  </thead>\n",
       "  <tbody>\n",
       "    <tr>\n",
       "      <th>0</th>\n",
       "      <td>SUB112832</td>\n",
       "      <td>A/Brisbane/59/2007</td>\n",
       "    </tr>\n",
       "    <tr>\n",
       "      <th>2</th>\n",
       "      <td>SUB112832</td>\n",
       "      <td>A/Uruguay/716/2007</td>\n",
       "    </tr>\n",
       "    <tr>\n",
       "      <th>4</th>\n",
       "      <td>SUB112832</td>\n",
       "      <td>B/Brisbane/03/2007</td>\n",
       "    </tr>\n",
       "    <tr>\n",
       "      <th>6</th>\n",
       "      <td>SUB112832</td>\n",
       "      <td>A/Solomon Islands/3/2006</td>\n",
       "    </tr>\n",
       "    <tr>\n",
       "      <th>8</th>\n",
       "      <td>SUB112832</td>\n",
       "      <td>A/Wisconsin/67/2005</td>\n",
       "    </tr>\n",
       "  </tbody>\n",
       "</table>\n",
       "</div>"
      ],
      "text/plain": [
       "  subject_accession    virus_strain_preferred\n",
       "0         SUB112832        A/Brisbane/59/2007\n",
       "2         SUB112832        A/Uruguay/716/2007\n",
       "4         SUB112832        B/Brisbane/03/2007\n",
       "6         SUB112832  A/Solomon Islands/3/2006\n",
       "8         SUB112832       A/Wisconsin/67/2005"
      ]
     },
     "execution_count": 126,
     "metadata": {},
     "output_type": "execute_result"
    }
   ],
   "source": [
    "temp = hai_result[['subject_accession', 'virus_strain_preferred']].drop_duplicates()\n",
    "temp.head()"
   ]
  },
  {
   "cell_type": "code",
   "execution_count": 127,
   "metadata": {},
   "outputs": [],
   "source": [
    "for i in days:\n",
    "    col = str(i)\n",
    "    temp[col] = 0\n",
    "    \n"
   ]
  },
  {
   "cell_type": "code",
   "execution_count": 187,
   "metadata": {},
   "outputs": [
    {
     "name": "stdout",
     "output_type": "stream",
     "text": [
      "SUB112832\n",
      "True\n",
      "SUB112832 A/Brisbane/59/2007 0\n"
     ]
    }
   ],
   "source": [
    "temp.head()\n",
    "# print(temp.head())\n",
    "# print(hai_result['subject_accession'][0])\n",
    "# print(hai_result['study_time_collected'][0])\n",
    "# print(temp['subject_accession'][0],temp['virus_strain_preferred'][0] )\n",
    "print(hai_result['subject_accession'][0])\n",
    "print(temp['subject_accession'][0] == hai_result['subject_accession'][0])\n",
    "a = str( hai_result['study_time_collected'][0] )\n",
    "print(temp['subject_accession'][0],temp['virus_strain_preferred'][0],temp[a][0])"
   ]
  },
  {
   "cell_type": "code",
   "execution_count": null,
   "metadata": {
    "collapsed": true
   },
   "outputs": [],
   "source": []
  }
 ],
 "metadata": {
  "kernelspec": {
   "display_name": "Python 3",
   "language": "python",
   "name": "python3"
  },
  "language_info": {
   "codemirror_mode": {
    "name": "ipython",
    "version": 3
   },
   "file_extension": ".py",
   "mimetype": "text/x-python",
   "name": "python",
   "nbconvert_exporter": "python",
   "pygments_lexer": "ipython3",
   "version": "3.6.1"
  }
 },
 "nbformat": 4,
 "nbformat_minor": 2
}
