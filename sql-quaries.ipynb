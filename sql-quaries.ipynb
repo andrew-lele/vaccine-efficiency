{
 "cells": [
  {
   "cell_type": "markdown",
   "metadata": {},
   "source": [
    "## Setup Python Environment"
   ]
  },
  {
   "cell_type": "code",
   "execution_count": null,
   "metadata": {
    "collapsed": true
   },
   "outputs": [],
   "source": [
    "import os\n",
    "import pandas as pd\n",
    "import seaborn as sns\n",
    "import mysql.connector\n",
    "from sqlalchemy import create_engine\n",
    "from sqlalchemy import (Column, DateTime, Integer, Numeric, Float, String, Text)\n",
    "\n",
    "# %matplotlib inline\n",
    "import matplotlib.pyplot as plt\n",
    "import numpy as np\n",
    "from scipy.stats.mstats import gmean"
   ]
  },
  {
   "cell_type": "markdown",
   "metadata": {},
   "source": [
    "## Environment Variables"
   ]
  },
  {
   "cell_type": "code",
   "execution_count": null,
   "metadata": {
    "collapsed": true
   },
   "outputs": [],
   "source": [
    "immport_user = os.getenv(\"IMMPORT_USER\",\"USER\")\n",
    "immport_password = os.getenv(\"IMMPORT_PASSWORD\",\"PASSWORD\")\n",
    "immport_database = os.getenv(\"IMMPORT_DATABASE\",\"DR26\")\n",
    "immport_host = os.getenv(\"IMMPORT_HOST\",\"127.0.0.1\")"
   ]
  },
  {
   "cell_type": "markdown",
   "metadata": {},
   "source": [
    "## Setup Database Connections\n"
   ]
  },
  {
   "cell_type": "code",
   "execution_count": null,
   "metadata": {
    "collapsed": true
   },
   "outputs": [],
   "source": [
    "conn1 = f\"mysql+mysqlconnector://{immport_user}:{immport_password}@{immport_host}:3306/{immport_database}\"\n",
    "immportConn = create_engine(conn1, echo=False)\n"
   ]
  },
  {
   "cell_type": "markdown",
   "metadata": {},
   "source": [
    "## create table with subjects who participate in multiple studies"
   ]
  },
  {
   "cell_type": "code",
   "execution_count": null,
   "metadata": {},
   "outputs": [],
   "source": [
    "sql = f'''\n",
    "DROP TABLE vaccine_analysis;\n",
    "CREATE TABLE vaccine_analysis AS (\n",
    "SELECT COUNT(DISTINCT aoc.study_accession), s1.subject_accession\n",
    "    FROM subject s1, \n",
    "    arm_2_subject a2s,\n",
    "    arm_or_cohort aoc\n",
    "WHERE s1.subject_accession = a2s.subject_accession\n",
    "    AND a2s.arm_accession = aoc.arm_accession\n",
    "\n",
    "GROUP BY s1.subject_accession\n",
    "HAVING COUNT(DISTINCT aoc.study_accession) > 1\n",
    ")\n",
    ")\n",
    "'''\n",
    "\n",
    "immportConn.execute('DROP TABLE IF EXISTS subjects_with_hai_results;');\n",
    "immportConn.execute(sql);\n",
    "immportConn.execute('create index idx_hai_1 on subjects_with_hai_results(study_accession)');"
   ]
  },
  {
   "cell_type": "markdown",
   "metadata": {},
   "source": [
    "##find the different dates a subject goes through each trial"
   ]
  },
  {
   "cell_type": "code",
   "execution_count": null,
   "metadata": {
    "collapsed": true
   },
   "outputs": [],
   "source": [
    "sql = f'''\n",
    "    \n",
    "SELECT h1.subject_accession, h1.study_accession, h1.study_time_collected,  h1.value_preferred, h1.virus_strain_preferred\n",
    "FROM vaccine_analysis,\n",
    "    hai_result h1\n",
    "    WHERE vaccine_analysis.subject_accession = h1.subject_accession\n",
    "        \n",
    "ORDER BY h1.subject_accession, study_accession\n",
    ")\n",
    "'''"
   ]
  },
  {
   "cell_type": "markdown",
   "metadata": {},
   "source": [
    "USE DR26;\n",
    "DROP TABLE tes;\n",
    "CREATE TABLE tes AS (\n",
    "SELECT COUNT(DISTINCT aoc.study_accession), s1.subject_accession\n",
    "    FROM subject s1, \n",
    "    arm_2_subject a2s,\n",
    "    arm_or_cohort aoc\n",
    "WHERE s1.subject_accession = a2s.subject_accession\n",
    "    AND a2s.arm_accession = aoc.arm_accession\n",
    "\n",
    "GROUP BY s1.subject_accession\n",
    "HAVING COUNT(DISTINCT aoc.study_accession) > 1\n",
    ")\n",
    "\n",
    "----\n",
    "SELECT aoc.study_accession, s1.subject_accession\n",
    "    FROM subject s1, \n",
    "    arm_2_subject a2s,\n",
    "    arm_or_cohort aoc\n",
    "WHERE s1.subject_accession = a2s.subject_accession\n",
    "    AND a2s.arm_accession = aoc.arm_accession\n",
    "    AND s1.subject_accession = \"SUB134257\"\n",
    "--    \n",
    "    \n",
    "    \n",
    "SELECT h1.* FROM tes,\n",
    "    hai_result h1\n",
    "    WHERE tes.sub_subj_accession = h1.subject_accession\n",
    "    AND\n",
    "    \n",
    "ORDER BY h1.subject_accession\n",
    "\n",
    "\n",
    "\n",
    "\n"
   ]
  }
 ],
 "metadata": {
  "kernelspec": {
   "display_name": "Python 3",
   "language": "python",
   "name": "python3"
  },
  "language_info": {
   "codemirror_mode": {
    "name": "ipython",
    "version": 3
   },
   "file_extension": ".py",
   "mimetype": "text/x-python",
   "name": "python",
   "nbconvert_exporter": "python",
   "pygments_lexer": "ipython3",
   "version": "3.6.1"
  }
 },
 "nbformat": 4,
 "nbformat_minor": 2
}
