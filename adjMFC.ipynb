{
 "cells": [
  {
   "cell_type": "markdown",
   "metadata": {},
   "source": []
  },
  {
   "cell_type": "code",
   "execution_count": 1,
   "metadata": {
    "collapsed": true
   },
   "outputs": [],
   "source": [
    "import os\n",
    "import pandas as pd\n",
    "import seaborn as sns\n",
    "import mysql.connector\n",
    "from sqlalchemy import create_engine\n",
    "from sqlalchemy import (Column, DateTime, Integer, Numeric, Float, String, Text)\n",
    "\n",
    "%matplotlib inline\n",
    "import matplotlib.pyplot as plt\n",
    "import numpy as np\n",
    "from scipy.stats.mstats import gmean"
   ]
  },
  {
   "cell_type": "code",
   "execution_count": 2,
   "metadata": {},
   "outputs": [
    {
     "data": {
      "text/plain": [
       "'1.12.1'"
      ]
     },
     "execution_count": 2,
     "metadata": {},
     "output_type": "execute_result"
    }
   ],
   "source": [
    "np.__version__"
   ]
  },
  {
   "cell_type": "code",
   "execution_count": 3,
   "metadata": {
    "collapsed": true
   },
   "outputs": [],
   "source": [
    "immport_user = os.getenv(\"IMMPORT_USER\",\"USER\")\n",
    "immport_password = os.getenv(\"IMMPORT_PASSWORD\",\"PASSWORD\")\n",
    "immport_database = os.getenv(\"IMMPORT_DATABASE\",\"DR26\")\n",
    "immport_host = os.getenv(\"IMMPORT_HOST\",\"127.0.0.1\")"
   ]
  },
  {
   "cell_type": "code",
   "execution_count": 4,
   "metadata": {
    "collapsed": true
   },
   "outputs": [],
   "source": [
    "conn1 = f\"mysql+mysqlconnector://{immport_user}:{immport_password}@{immport_host}:3306/{immport_database}\"\n",
    "immportConn = create_engine(conn1, connect_args={'connect_timeout': 120 }, echo=False)\n"
   ]
  },
  {
   "cell_type": "code",
   "execution_count": 13,
   "metadata": {},
   "outputs": [
    {
     "data": {
      "text/html": [
       "<div>\n",
       "<style>\n",
       "    .dataframe thead tr:only-child th {\n",
       "        text-align: right;\n",
       "    }\n",
       "\n",
       "    .dataframe thead th {\n",
       "        text-align: left;\n",
       "    }\n",
       "\n",
       "    .dataframe tbody tr th {\n",
       "        vertical-align: top;\n",
       "    }\n",
       "</style>\n",
       "<table border=\"1\" class=\"dataframe\">\n",
       "  <thead>\n",
       "    <tr style=\"text-align: right;\">\n",
       "      <th></th>\n",
       "      <th>subject_accession</th>\n",
       "      <th>study_accession</th>\n",
       "      <th>study_time_collected</th>\n",
       "      <th>value_preferred</th>\n",
       "      <th>virus_strain_preferred</th>\n",
       "    </tr>\n",
       "  </thead>\n",
       "  <tbody>\n",
       "    <tr>\n",
       "      <th>0</th>\n",
       "      <td>SUB112832</td>\n",
       "      <td>SDY269</td>\n",
       "      <td>0.0</td>\n",
       "      <td>20.0</td>\n",
       "      <td>A/Brisbane/59/2007</td>\n",
       "    </tr>\n",
       "    <tr>\n",
       "      <th>1</th>\n",
       "      <td>SUB112832</td>\n",
       "      <td>SDY269</td>\n",
       "      <td>28.0</td>\n",
       "      <td>20.0</td>\n",
       "      <td>A/Brisbane/59/2007</td>\n",
       "    </tr>\n",
       "    <tr>\n",
       "      <th>2</th>\n",
       "      <td>SUB112832</td>\n",
       "      <td>SDY269</td>\n",
       "      <td>0.0</td>\n",
       "      <td>5.0</td>\n",
       "      <td>A/Uruguay/716/2007</td>\n",
       "    </tr>\n",
       "    <tr>\n",
       "      <th>3</th>\n",
       "      <td>SUB112832</td>\n",
       "      <td>SDY269</td>\n",
       "      <td>28.0</td>\n",
       "      <td>5.0</td>\n",
       "      <td>A/Uruguay/716/2007</td>\n",
       "    </tr>\n",
       "    <tr>\n",
       "      <th>4</th>\n",
       "      <td>SUB112832</td>\n",
       "      <td>SDY269</td>\n",
       "      <td>0.0</td>\n",
       "      <td>5.0</td>\n",
       "      <td>B/Brisbane/03/2007</td>\n",
       "    </tr>\n",
       "    <tr>\n",
       "      <th>5</th>\n",
       "      <td>SUB112832</td>\n",
       "      <td>SDY269</td>\n",
       "      <td>28.0</td>\n",
       "      <td>5.0</td>\n",
       "      <td>B/Brisbane/03/2007</td>\n",
       "    </tr>\n",
       "    <tr>\n",
       "      <th>6</th>\n",
       "      <td>SUB112832</td>\n",
       "      <td>SDY61</td>\n",
       "      <td>0.0</td>\n",
       "      <td>40.0</td>\n",
       "      <td>A/Solomon Islands/3/2006</td>\n",
       "    </tr>\n",
       "    <tr>\n",
       "      <th>7</th>\n",
       "      <td>SUB112832</td>\n",
       "      <td>SDY61</td>\n",
       "      <td>28.0</td>\n",
       "      <td>640.0</td>\n",
       "      <td>A/Solomon Islands/3/2006</td>\n",
       "    </tr>\n",
       "    <tr>\n",
       "      <th>8</th>\n",
       "      <td>SUB112832</td>\n",
       "      <td>SDY61</td>\n",
       "      <td>0.0</td>\n",
       "      <td>5.0</td>\n",
       "      <td>A/Wisconsin/67/2005</td>\n",
       "    </tr>\n",
       "    <tr>\n",
       "      <th>9</th>\n",
       "      <td>SUB112832</td>\n",
       "      <td>SDY61</td>\n",
       "      <td>28.0</td>\n",
       "      <td>160.0</td>\n",
       "      <td>A/Wisconsin/67/2005</td>\n",
       "    </tr>\n",
       "    <tr>\n",
       "      <th>10</th>\n",
       "      <td>SUB112832</td>\n",
       "      <td>SDY61</td>\n",
       "      <td>0.0</td>\n",
       "      <td>10.0</td>\n",
       "      <td>B/Malaysia/2506/2004</td>\n",
       "    </tr>\n",
       "    <tr>\n",
       "      <th>11</th>\n",
       "      <td>SUB112832</td>\n",
       "      <td>SDY61</td>\n",
       "      <td>28.0</td>\n",
       "      <td>20.0</td>\n",
       "      <td>B/Malaysia/2506/2004</td>\n",
       "    </tr>\n",
       "    <tr>\n",
       "      <th>12</th>\n",
       "      <td>SUB112834</td>\n",
       "      <td>SDY269</td>\n",
       "      <td>0.0</td>\n",
       "      <td>5.0</td>\n",
       "      <td>A/Brisbane/59/2007</td>\n",
       "    </tr>\n",
       "    <tr>\n",
       "      <th>13</th>\n",
       "      <td>SUB112834</td>\n",
       "      <td>SDY269</td>\n",
       "      <td>28.0</td>\n",
       "      <td>160.0</td>\n",
       "      <td>A/Brisbane/59/2007</td>\n",
       "    </tr>\n",
       "    <tr>\n",
       "      <th>14</th>\n",
       "      <td>SUB112834</td>\n",
       "      <td>SDY269</td>\n",
       "      <td>0.0</td>\n",
       "      <td>5.0</td>\n",
       "      <td>A/Uruguay/716/2007</td>\n",
       "    </tr>\n",
       "    <tr>\n",
       "      <th>15</th>\n",
       "      <td>SUB112834</td>\n",
       "      <td>SDY269</td>\n",
       "      <td>28.0</td>\n",
       "      <td>80.0</td>\n",
       "      <td>A/Uruguay/716/2007</td>\n",
       "    </tr>\n",
       "    <tr>\n",
       "      <th>16</th>\n",
       "      <td>SUB112834</td>\n",
       "      <td>SDY269</td>\n",
       "      <td>0.0</td>\n",
       "      <td>5.0</td>\n",
       "      <td>B/Brisbane/03/2007</td>\n",
       "    </tr>\n",
       "    <tr>\n",
       "      <th>17</th>\n",
       "      <td>SUB112834</td>\n",
       "      <td>SDY269</td>\n",
       "      <td>28.0</td>\n",
       "      <td>40.0</td>\n",
       "      <td>B/Brisbane/03/2007</td>\n",
       "    </tr>\n",
       "    <tr>\n",
       "      <th>18</th>\n",
       "      <td>SUB112841</td>\n",
       "      <td>SDY269</td>\n",
       "      <td>0.0</td>\n",
       "      <td>10.0</td>\n",
       "      <td>A/Brisbane/59/2007</td>\n",
       "    </tr>\n",
       "    <tr>\n",
       "      <th>19</th>\n",
       "      <td>SUB112841</td>\n",
       "      <td>SDY269</td>\n",
       "      <td>28.0</td>\n",
       "      <td>640.0</td>\n",
       "      <td>A/Brisbane/59/2007</td>\n",
       "    </tr>\n",
       "    <tr>\n",
       "      <th>20</th>\n",
       "      <td>SUB112841</td>\n",
       "      <td>SDY269</td>\n",
       "      <td>0.0</td>\n",
       "      <td>5.0</td>\n",
       "      <td>A/Uruguay/716/2007</td>\n",
       "    </tr>\n",
       "    <tr>\n",
       "      <th>21</th>\n",
       "      <td>SUB112841</td>\n",
       "      <td>SDY269</td>\n",
       "      <td>28.0</td>\n",
       "      <td>640.0</td>\n",
       "      <td>A/Uruguay/716/2007</td>\n",
       "    </tr>\n",
       "    <tr>\n",
       "      <th>22</th>\n",
       "      <td>SUB112841</td>\n",
       "      <td>SDY269</td>\n",
       "      <td>0.0</td>\n",
       "      <td>20.0</td>\n",
       "      <td>B/Brisbane/03/2007</td>\n",
       "    </tr>\n",
       "    <tr>\n",
       "      <th>23</th>\n",
       "      <td>SUB112841</td>\n",
       "      <td>SDY269</td>\n",
       "      <td>28.0</td>\n",
       "      <td>80.0</td>\n",
       "      <td>B/Brisbane/03/2007</td>\n",
       "    </tr>\n",
       "    <tr>\n",
       "      <th>24</th>\n",
       "      <td>SUB112841</td>\n",
       "      <td>SDY61</td>\n",
       "      <td>0.0</td>\n",
       "      <td>40.0</td>\n",
       "      <td>A/Solomon Islands/3/2006</td>\n",
       "    </tr>\n",
       "    <tr>\n",
       "      <th>25</th>\n",
       "      <td>SUB112841</td>\n",
       "      <td>SDY61</td>\n",
       "      <td>28.0</td>\n",
       "      <td>80.0</td>\n",
       "      <td>A/Solomon Islands/3/2006</td>\n",
       "    </tr>\n",
       "    <tr>\n",
       "      <th>26</th>\n",
       "      <td>SUB112841</td>\n",
       "      <td>SDY61</td>\n",
       "      <td>0.0</td>\n",
       "      <td>5.0</td>\n",
       "      <td>A/Wisconsin/67/2005</td>\n",
       "    </tr>\n",
       "    <tr>\n",
       "      <th>27</th>\n",
       "      <td>SUB112841</td>\n",
       "      <td>SDY61</td>\n",
       "      <td>28.0</td>\n",
       "      <td>160.0</td>\n",
       "      <td>A/Wisconsin/67/2005</td>\n",
       "    </tr>\n",
       "    <tr>\n",
       "      <th>28</th>\n",
       "      <td>SUB112841</td>\n",
       "      <td>SDY61</td>\n",
       "      <td>0.0</td>\n",
       "      <td>5.0</td>\n",
       "      <td>B/Malaysia/2506/2004</td>\n",
       "    </tr>\n",
       "    <tr>\n",
       "      <th>29</th>\n",
       "      <td>SUB112841</td>\n",
       "      <td>SDY61</td>\n",
       "      <td>28.0</td>\n",
       "      <td>40.0</td>\n",
       "      <td>B/Malaysia/2506/2004</td>\n",
       "    </tr>\n",
       "    <tr>\n",
       "      <th>...</th>\n",
       "      <td>...</td>\n",
       "      <td>...</td>\n",
       "      <td>...</td>\n",
       "      <td>...</td>\n",
       "      <td>...</td>\n",
       "    </tr>\n",
       "    <tr>\n",
       "      <th>7625</th>\n",
       "      <td>SUB146492</td>\n",
       "      <td>SDY515</td>\n",
       "      <td>0.0</td>\n",
       "      <td>10.0</td>\n",
       "      <td>A/California/7/2009</td>\n",
       "    </tr>\n",
       "    <tr>\n",
       "      <th>7626</th>\n",
       "      <td>SUB146492</td>\n",
       "      <td>SDY515</td>\n",
       "      <td>28.0</td>\n",
       "      <td>320.0</td>\n",
       "      <td>A/California/7/2009</td>\n",
       "    </tr>\n",
       "    <tr>\n",
       "      <th>7627</th>\n",
       "      <td>SUB146492</td>\n",
       "      <td>SDY515</td>\n",
       "      <td>0.0</td>\n",
       "      <td>20.0</td>\n",
       "      <td>A/Perth/16/2009</td>\n",
       "    </tr>\n",
       "    <tr>\n",
       "      <th>7628</th>\n",
       "      <td>SUB146492</td>\n",
       "      <td>SDY515</td>\n",
       "      <td>28.0</td>\n",
       "      <td>320.0</td>\n",
       "      <td>A/Perth/16/2009</td>\n",
       "    </tr>\n",
       "    <tr>\n",
       "      <th>7629</th>\n",
       "      <td>SUB146492</td>\n",
       "      <td>SDY515</td>\n",
       "      <td>0.0</td>\n",
       "      <td>10.0</td>\n",
       "      <td>B/Brisbane/60/2008</td>\n",
       "    </tr>\n",
       "    <tr>\n",
       "      <th>7630</th>\n",
       "      <td>SUB146492</td>\n",
       "      <td>SDY515</td>\n",
       "      <td>28.0</td>\n",
       "      <td>320.0</td>\n",
       "      <td>B/Brisbane/60/2008</td>\n",
       "    </tr>\n",
       "    <tr>\n",
       "      <th>7631</th>\n",
       "      <td>SUB146503</td>\n",
       "      <td>SDY515</td>\n",
       "      <td>0.0</td>\n",
       "      <td>1.0</td>\n",
       "      <td>A/California/7/2009</td>\n",
       "    </tr>\n",
       "    <tr>\n",
       "      <th>7632</th>\n",
       "      <td>SUB146503</td>\n",
       "      <td>SDY515</td>\n",
       "      <td>28.0</td>\n",
       "      <td>40.0</td>\n",
       "      <td>A/California/7/2009</td>\n",
       "    </tr>\n",
       "    <tr>\n",
       "      <th>7633</th>\n",
       "      <td>SUB146503</td>\n",
       "      <td>SDY515</td>\n",
       "      <td>0.0</td>\n",
       "      <td>1.0</td>\n",
       "      <td>A/Perth/16/2009</td>\n",
       "    </tr>\n",
       "    <tr>\n",
       "      <th>7634</th>\n",
       "      <td>SUB146503</td>\n",
       "      <td>SDY515</td>\n",
       "      <td>28.0</td>\n",
       "      <td>80.0</td>\n",
       "      <td>A/Perth/16/2009</td>\n",
       "    </tr>\n",
       "    <tr>\n",
       "      <th>7635</th>\n",
       "      <td>SUB146503</td>\n",
       "      <td>SDY515</td>\n",
       "      <td>0.0</td>\n",
       "      <td>1.0</td>\n",
       "      <td>B/Brisbane/60/2008</td>\n",
       "    </tr>\n",
       "    <tr>\n",
       "      <th>7636</th>\n",
       "      <td>SUB146503</td>\n",
       "      <td>SDY515</td>\n",
       "      <td>28.0</td>\n",
       "      <td>20.0</td>\n",
       "      <td>B/Brisbane/60/2008</td>\n",
       "    </tr>\n",
       "    <tr>\n",
       "      <th>7637</th>\n",
       "      <td>SUB146504</td>\n",
       "      <td>SDY515</td>\n",
       "      <td>0.0</td>\n",
       "      <td>40.0</td>\n",
       "      <td>A/California/7/2009</td>\n",
       "    </tr>\n",
       "    <tr>\n",
       "      <th>7638</th>\n",
       "      <td>SUB146504</td>\n",
       "      <td>SDY515</td>\n",
       "      <td>28.0</td>\n",
       "      <td>160.0</td>\n",
       "      <td>A/California/7/2009</td>\n",
       "    </tr>\n",
       "    <tr>\n",
       "      <th>7639</th>\n",
       "      <td>SUB146504</td>\n",
       "      <td>SDY515</td>\n",
       "      <td>0.0</td>\n",
       "      <td>10.0</td>\n",
       "      <td>A/Perth/16/2009</td>\n",
       "    </tr>\n",
       "    <tr>\n",
       "      <th>7640</th>\n",
       "      <td>SUB146504</td>\n",
       "      <td>SDY515</td>\n",
       "      <td>28.0</td>\n",
       "      <td>10.0</td>\n",
       "      <td>A/Perth/16/2009</td>\n",
       "    </tr>\n",
       "    <tr>\n",
       "      <th>7641</th>\n",
       "      <td>SUB146504</td>\n",
       "      <td>SDY515</td>\n",
       "      <td>0.0</td>\n",
       "      <td>40.0</td>\n",
       "      <td>B/Brisbane/60/2008</td>\n",
       "    </tr>\n",
       "    <tr>\n",
       "      <th>7642</th>\n",
       "      <td>SUB146504</td>\n",
       "      <td>SDY515</td>\n",
       "      <td>28.0</td>\n",
       "      <td>40.0</td>\n",
       "      <td>B/Brisbane/60/2008</td>\n",
       "    </tr>\n",
       "    <tr>\n",
       "      <th>7643</th>\n",
       "      <td>SUB146505</td>\n",
       "      <td>SDY515</td>\n",
       "      <td>0.0</td>\n",
       "      <td>80.0</td>\n",
       "      <td>A/California/7/2009</td>\n",
       "    </tr>\n",
       "    <tr>\n",
       "      <th>7644</th>\n",
       "      <td>SUB146505</td>\n",
       "      <td>SDY515</td>\n",
       "      <td>28.0</td>\n",
       "      <td>80.0</td>\n",
       "      <td>A/California/7/2009</td>\n",
       "    </tr>\n",
       "    <tr>\n",
       "      <th>7645</th>\n",
       "      <td>SUB146505</td>\n",
       "      <td>SDY515</td>\n",
       "      <td>0.0</td>\n",
       "      <td>10.0</td>\n",
       "      <td>A/Perth/16/2009</td>\n",
       "    </tr>\n",
       "    <tr>\n",
       "      <th>7646</th>\n",
       "      <td>SUB146505</td>\n",
       "      <td>SDY515</td>\n",
       "      <td>28.0</td>\n",
       "      <td>10.0</td>\n",
       "      <td>A/Perth/16/2009</td>\n",
       "    </tr>\n",
       "    <tr>\n",
       "      <th>7647</th>\n",
       "      <td>SUB146505</td>\n",
       "      <td>SDY515</td>\n",
       "      <td>0.0</td>\n",
       "      <td>20.0</td>\n",
       "      <td>B/Brisbane/60/2008</td>\n",
       "    </tr>\n",
       "    <tr>\n",
       "      <th>7648</th>\n",
       "      <td>SUB146505</td>\n",
       "      <td>SDY515</td>\n",
       "      <td>28.0</td>\n",
       "      <td>80.0</td>\n",
       "      <td>B/Brisbane/60/2008</td>\n",
       "    </tr>\n",
       "    <tr>\n",
       "      <th>7649</th>\n",
       "      <td>SUB146506</td>\n",
       "      <td>SDY515</td>\n",
       "      <td>0.0</td>\n",
       "      <td>40.0</td>\n",
       "      <td>A/California/7/2009</td>\n",
       "    </tr>\n",
       "    <tr>\n",
       "      <th>7650</th>\n",
       "      <td>SUB146506</td>\n",
       "      <td>SDY515</td>\n",
       "      <td>28.0</td>\n",
       "      <td>80.0</td>\n",
       "      <td>A/California/7/2009</td>\n",
       "    </tr>\n",
       "    <tr>\n",
       "      <th>7651</th>\n",
       "      <td>SUB146506</td>\n",
       "      <td>SDY515</td>\n",
       "      <td>0.0</td>\n",
       "      <td>10.0</td>\n",
       "      <td>A/Perth/16/2009</td>\n",
       "    </tr>\n",
       "    <tr>\n",
       "      <th>7652</th>\n",
       "      <td>SUB146506</td>\n",
       "      <td>SDY515</td>\n",
       "      <td>28.0</td>\n",
       "      <td>160.0</td>\n",
       "      <td>A/Perth/16/2009</td>\n",
       "    </tr>\n",
       "    <tr>\n",
       "      <th>7653</th>\n",
       "      <td>SUB146506</td>\n",
       "      <td>SDY515</td>\n",
       "      <td>0.0</td>\n",
       "      <td>40.0</td>\n",
       "      <td>B/Brisbane/60/2008</td>\n",
       "    </tr>\n",
       "    <tr>\n",
       "      <th>7654</th>\n",
       "      <td>SUB146506</td>\n",
       "      <td>SDY515</td>\n",
       "      <td>28.0</td>\n",
       "      <td>80.0</td>\n",
       "      <td>B/Brisbane/60/2008</td>\n",
       "    </tr>\n",
       "  </tbody>\n",
       "</table>\n",
       "<p>7655 rows × 5 columns</p>\n",
       "</div>"
      ],
      "text/plain": [
       "     subject_accession study_accession  study_time_collected  value_preferred  \\\n",
       "0            SUB112832          SDY269                   0.0             20.0   \n",
       "1            SUB112832          SDY269                  28.0             20.0   \n",
       "2            SUB112832          SDY269                   0.0              5.0   \n",
       "3            SUB112832          SDY269                  28.0              5.0   \n",
       "4            SUB112832          SDY269                   0.0              5.0   \n",
       "5            SUB112832          SDY269                  28.0              5.0   \n",
       "6            SUB112832           SDY61                   0.0             40.0   \n",
       "7            SUB112832           SDY61                  28.0            640.0   \n",
       "8            SUB112832           SDY61                   0.0              5.0   \n",
       "9            SUB112832           SDY61                  28.0            160.0   \n",
       "10           SUB112832           SDY61                   0.0             10.0   \n",
       "11           SUB112832           SDY61                  28.0             20.0   \n",
       "12           SUB112834          SDY269                   0.0              5.0   \n",
       "13           SUB112834          SDY269                  28.0            160.0   \n",
       "14           SUB112834          SDY269                   0.0              5.0   \n",
       "15           SUB112834          SDY269                  28.0             80.0   \n",
       "16           SUB112834          SDY269                   0.0              5.0   \n",
       "17           SUB112834          SDY269                  28.0             40.0   \n",
       "18           SUB112841          SDY269                   0.0             10.0   \n",
       "19           SUB112841          SDY269                  28.0            640.0   \n",
       "20           SUB112841          SDY269                   0.0              5.0   \n",
       "21           SUB112841          SDY269                  28.0            640.0   \n",
       "22           SUB112841          SDY269                   0.0             20.0   \n",
       "23           SUB112841          SDY269                  28.0             80.0   \n",
       "24           SUB112841           SDY61                   0.0             40.0   \n",
       "25           SUB112841           SDY61                  28.0             80.0   \n",
       "26           SUB112841           SDY61                   0.0              5.0   \n",
       "27           SUB112841           SDY61                  28.0            160.0   \n",
       "28           SUB112841           SDY61                   0.0              5.0   \n",
       "29           SUB112841           SDY61                  28.0             40.0   \n",
       "...                ...             ...                   ...              ...   \n",
       "7625         SUB146492          SDY515                   0.0             10.0   \n",
       "7626         SUB146492          SDY515                  28.0            320.0   \n",
       "7627         SUB146492          SDY515                   0.0             20.0   \n",
       "7628         SUB146492          SDY515                  28.0            320.0   \n",
       "7629         SUB146492          SDY515                   0.0             10.0   \n",
       "7630         SUB146492          SDY515                  28.0            320.0   \n",
       "7631         SUB146503          SDY515                   0.0              1.0   \n",
       "7632         SUB146503          SDY515                  28.0             40.0   \n",
       "7633         SUB146503          SDY515                   0.0              1.0   \n",
       "7634         SUB146503          SDY515                  28.0             80.0   \n",
       "7635         SUB146503          SDY515                   0.0              1.0   \n",
       "7636         SUB146503          SDY515                  28.0             20.0   \n",
       "7637         SUB146504          SDY515                   0.0             40.0   \n",
       "7638         SUB146504          SDY515                  28.0            160.0   \n",
       "7639         SUB146504          SDY515                   0.0             10.0   \n",
       "7640         SUB146504          SDY515                  28.0             10.0   \n",
       "7641         SUB146504          SDY515                   0.0             40.0   \n",
       "7642         SUB146504          SDY515                  28.0             40.0   \n",
       "7643         SUB146505          SDY515                   0.0             80.0   \n",
       "7644         SUB146505          SDY515                  28.0             80.0   \n",
       "7645         SUB146505          SDY515                   0.0             10.0   \n",
       "7646         SUB146505          SDY515                  28.0             10.0   \n",
       "7647         SUB146505          SDY515                   0.0             20.0   \n",
       "7648         SUB146505          SDY515                  28.0             80.0   \n",
       "7649         SUB146506          SDY515                   0.0             40.0   \n",
       "7650         SUB146506          SDY515                  28.0             80.0   \n",
       "7651         SUB146506          SDY515                   0.0             10.0   \n",
       "7652         SUB146506          SDY515                  28.0            160.0   \n",
       "7653         SUB146506          SDY515                   0.0             40.0   \n",
       "7654         SUB146506          SDY515                  28.0             80.0   \n",
       "\n",
       "        virus_strain_preferred  \n",
       "0           A/Brisbane/59/2007  \n",
       "1           A/Brisbane/59/2007  \n",
       "2           A/Uruguay/716/2007  \n",
       "3           A/Uruguay/716/2007  \n",
       "4           B/Brisbane/03/2007  \n",
       "5           B/Brisbane/03/2007  \n",
       "6     A/Solomon Islands/3/2006  \n",
       "7     A/Solomon Islands/3/2006  \n",
       "8          A/Wisconsin/67/2005  \n",
       "9          A/Wisconsin/67/2005  \n",
       "10        B/Malaysia/2506/2004  \n",
       "11        B/Malaysia/2506/2004  \n",
       "12          A/Brisbane/59/2007  \n",
       "13          A/Brisbane/59/2007  \n",
       "14          A/Uruguay/716/2007  \n",
       "15          A/Uruguay/716/2007  \n",
       "16          B/Brisbane/03/2007  \n",
       "17          B/Brisbane/03/2007  \n",
       "18          A/Brisbane/59/2007  \n",
       "19          A/Brisbane/59/2007  \n",
       "20          A/Uruguay/716/2007  \n",
       "21          A/Uruguay/716/2007  \n",
       "22          B/Brisbane/03/2007  \n",
       "23          B/Brisbane/03/2007  \n",
       "24    A/Solomon Islands/3/2006  \n",
       "25    A/Solomon Islands/3/2006  \n",
       "26         A/Wisconsin/67/2005  \n",
       "27         A/Wisconsin/67/2005  \n",
       "28        B/Malaysia/2506/2004  \n",
       "29        B/Malaysia/2506/2004  \n",
       "...                        ...  \n",
       "7625       A/California/7/2009  \n",
       "7626       A/California/7/2009  \n",
       "7627           A/Perth/16/2009  \n",
       "7628           A/Perth/16/2009  \n",
       "7629        B/Brisbane/60/2008  \n",
       "7630        B/Brisbane/60/2008  \n",
       "7631       A/California/7/2009  \n",
       "7632       A/California/7/2009  \n",
       "7633           A/Perth/16/2009  \n",
       "7634           A/Perth/16/2009  \n",
       "7635        B/Brisbane/60/2008  \n",
       "7636        B/Brisbane/60/2008  \n",
       "7637       A/California/7/2009  \n",
       "7638       A/California/7/2009  \n",
       "7639           A/Perth/16/2009  \n",
       "7640           A/Perth/16/2009  \n",
       "7641        B/Brisbane/60/2008  \n",
       "7642        B/Brisbane/60/2008  \n",
       "7643       A/California/7/2009  \n",
       "7644       A/California/7/2009  \n",
       "7645           A/Perth/16/2009  \n",
       "7646           A/Perth/16/2009  \n",
       "7647        B/Brisbane/60/2008  \n",
       "7648        B/Brisbane/60/2008  \n",
       "7649       A/California/7/2009  \n",
       "7650       A/California/7/2009  \n",
       "7651           A/Perth/16/2009  \n",
       "7652           A/Perth/16/2009  \n",
       "7653        B/Brisbane/60/2008  \n",
       "7654        B/Brisbane/60/2008  \n",
       "\n",
       "[7655 rows x 5 columns]"
      ]
     },
     "execution_count": 13,
     "metadata": {},
     "output_type": "execute_result"
    }
   ],
   "source": [
    "sql = f'''\n",
    "SELECT va.subject_accession, va.study_accession, va.study_time_collected,  va.value_preferred, va.virus_strain_preferred\n",
    "FROM vaccine_analysis va\n",
    "ORDER BY va.subject_accession, va.study_accession, va.virus_strain_preferred, va.study_time_collected\n",
    "'''\n",
    "\n",
    "hai_result = pd.read_sql(sql, immportConn)\n",
    "hai_result\n",
    "\n",
    "# print(hai_result['virus_strain_preferred'], hai_result['subject_accession'])\n"
   ]
  },
  {
   "cell_type": "code",
   "execution_count": 8,
   "metadata": {},
   "outputs": [
    {
     "data": {
      "text/plain": [
       "array(['SDY269', 'SDY61', 'SDY112', 'SDY311', 'SDY312', 'SDY315', 'SDY478',\n",
       "       'SDY113', 'SDY305', 'SDY472', 'SDY198', 'SDY200', 'SDY196',\n",
       "       'SDY197', 'SDY199', 'SDY201', 'SDY296', 'SDY301', 'SDY212',\n",
       "       'SDY314', 'SDY369', 'SDY372', 'SDY376', 'SDY645', 'SDY406', 'SDY515'], dtype=object)"
      ]
     },
     "execution_count": 8,
     "metadata": {},
     "output_type": "execute_result"
    }
   ],
   "source": [
    "hai_result['study_accession'].unique()"
   ]
  },
  {
   "cell_type": "code",
   "execution_count": null,
   "metadata": {},
   "outputs": [],
   "source": [
    "%%javascript\n",
    "IPython.OutputArea.prototype._should_scroll = function(lines) {\n",
    "    return false;\n",
    "}"
   ]
  },
  {
   "cell_type": "code",
   "execution_count": null,
   "metadata": {
    "collapsed": true
   },
   "outputs": [],
   "source": [
    "example = hai_result[hai_result['value_preferred'] < 50 ]"
   ]
  },
  {
   "cell_type": "code",
   "execution_count": null,
   "metadata": {},
   "outputs": [],
   "source": [
    "example"
   ]
  },
  {
   "cell_type": "code",
   "execution_count": null,
   "metadata": {},
   "outputs": [],
   "source": [
    "studies = sorted(hai_result['study_accession'].unique())\n",
    "plt.figure();\n",
    "hai_result['study_time_collected'].plot.hist(title='study accession histogram', rot = 0)\n",
    "plt.show();\n",
    "plt.close()"
   ]
  },
  {
   "cell_type": "code",
   "execution_count": null,
   "metadata": {},
   "outputs": [],
   "source": [
    "print((sorted(hai_result['study_accession'].unique())) )\n",
    "print(len(sorted(hai_result['subject_accession'].unique())) )\n",
    "print(len(sorted(hai_result['study_time_collected'].unique())) )"
   ]
  },
  {
   "cell_type": "code",
   "execution_count": null,
   "metadata": {},
   "outputs": [],
   "source": [
    "studies = sorted(hai_result['study_accession'].unique())\n",
    "\n",
    "plt.figure();\n",
    "histo = hai_result['value_preferred'].plot.hist(title='value_preferred')\n",
    "plt.show();\n",
    "plt.close()"
   ]
  },
  {
   "cell_type": "code",
   "execution_count": null,
   "metadata": {},
   "outputs": [],
   "source": [
    "soi = hai_result.loc[hai_result['study_accession']== 'SDY404']\n",
    "plt.figure();\n",
    "histo = soi['value_preferred'].plot.hist(title='value_preferred')\n",
    "plt.show();\n",
    "plt.close()"
   ]
  },
  {
   "cell_type": "code",
   "execution_count": null,
   "metadata": {},
   "outputs": [],
   "source": [
    "plt.hist(hai_result['value_preferred'], normed = True)\n",
    "plt.show()\n",
    "plt.close()\n"
   ]
  },
  {
   "cell_type": "code",
   "execution_count": null,
   "metadata": {
    "collapsed": true
   },
   "outputs": [],
   "source": [
    "%%time\n",
    "studies = sorted(hai_result['study_accession'].unique())\n",
    "day0 = pd.DataFrame(index=hai_result.index, columns=hai_result.columns)\n",
    "for study in studies:\n",
    "#     print('\\t\\t===========', study, '===========')\n",
    "    df = hai_result.loc[hai_result['study_accession'] == study]\n",
    "    subjects = sorted(df['subject_accession'].unique())\n",
    "    for subject in subjects:\n",
    "        \n",
    "        sub_data = df[df['subject_accession']==subject]\n",
    "        strains = sorted(sub_data['virus_strain_preferred'].unique().astype(str))\n",
    "#         print('\\t\\t----------', subject, '----------')\n",
    "        for strain in strains:\n",
    "            if strain != 'None':\n",
    "                data = sub_data[sub_data['virus_strain_preferred']==strain]\n",
    "                hold = data[data['study_time_collected']==0]\n",
    "                \n",
    "                # print(day0)\n"
   ]
  },
  {
   "cell_type": "code",
   "execution_count": null,
   "metadata": {
    "collapsed": true
   },
   "outputs": [],
   "source": [
    "day0 = hai_result.loc[hai_result['virus_strain_preferred'] == 0]"
   ]
  },
  {
   "cell_type": "code",
   "execution_count": 17,
   "metadata": {},
   "outputs": [
    {
     "data": {
      "text/plain": [
       "['A/Brisbane/10/2007',\n",
       " 'A/Brisbane/59/2007',\n",
       " 'A/California/7/2009',\n",
       " 'A/Perth/16/2009',\n",
       " 'A/Solomon Islands/3/2006',\n",
       " 'A/South Dakota/06/2007',\n",
       " 'A/Texas/50/2012',\n",
       " 'A/Uruguay/716/2007',\n",
       " 'A/Victoria/3/1975',\n",
       " 'A/Victoria/361/2011',\n",
       " 'A/Wisconsin/67/2005',\n",
       " 'B/Brisbane/03/2007',\n",
       " 'B/Brisbane/60/2008',\n",
       " 'B/Florida/4/2006',\n",
       " 'B/Lee/1940',\n",
       " 'B/Malaysia/2506/2004',\n",
       " 'B/Massachusetts/02/2012',\n",
       " 'B/Wisconsin/01/2010',\n",
       " 'None']"
      ]
     },
     "execution_count": 17,
     "metadata": {},
     "output_type": "execute_result"
    }
   ],
   "source": [
    "strains = sorted(hai_result['virus_strain_preferred'].unique().astype(str))\n",
    "strains"
   ]
  },
  {
   "cell_type": "code",
   "execution_count": 42,
   "metadata": {},
   "outputs": [
    {
     "name": "stdout",
     "output_type": "stream",
     "text": [
      "-------------------------- A/Brisbane/10/2007 --------------------------\n"
     ]
    },
    {
     "data": {
      "image/png": "[encoded data removed]",
      "text/plain": [
       "<matplotlib.figure.Figure at 0x7f911d9a58d0>"
      ]
     },
     "metadata": {},
     "output_type": "display_data"
    },
    {
     "name": "stdout",
     "output_type": "stream",
     "text": [
      "bins:  [    5.    132.5   260.    387.5   515.    642.5   770.    897.5  1025.\n",
      "  1152.5  1280. ]\n",
      "n:  [ 69.   9.   4.   0.   3.   0.   0.   0.   0.   4.]\n",
      "-------------------------- A/Brisbane/59/2007 --------------------------\n"
     ]
    },
    {
     "data": {
      "image/png": "[encoded data removed]",
      "text/plain": [
       "<matplotlib.figure.Figure at 0x7f911b3070f0>"
      ]
     },
     "metadata": {},
     "output_type": "display_data"
    },
    {
     "name": "stdout",
     "output_type": "stream",
     "text": [
      "bins:  [    5.    132.5   260.    387.5   515.    642.5   770.    897.5  1025.\n",
      "  1152.5  1280. ]\n",
      "n:  [ 99.   3.   4.   0.   1.   0.   0.   0.   0.   2.]\n",
      "-------------------------- A/California/7/2009 --------------------------\n"
     ]
    },
    {
     "data": {
      "image/png": "[encoded data removed]",
      "text/plain": [
       "<matplotlib.figure.Figure at 0x7f911afa67b8>"
      ]
     },
     "metadata": {},
     "output_type": "display_data"
    },
    {
     "name": "stdout",
     "output_type": "stream",
     "text": [
      "bins:  [  1.00000000e+00   1.28900000e+02   2.56800000e+02   3.84700000e+02\n",
      "   5.12600000e+02   6.40500000e+02   7.68400000e+02   8.96300000e+02\n",
      "   1.02420000e+03   1.15210000e+03   1.28000000e+03]\n",
      "n:  [ 442.   93.   77.    0.   20.    0.    0.    0.    0.   11.]\n",
      "-------------------------- A/Perth/16/2009 --------------------------\n"
     ]
    },
    {
     "data": {
      "image/png": "[encoded data removed]",
      "text/plain": [
       "<matplotlib.figure.Figure at 0x7f911aeee0b8>"
      ]
     },
     "metadata": {},
     "output_type": "display_data"
    },
    {
     "name": "stdout",
     "output_type": "stream",
     "text": [
      "bins:  [  1.00000000e+00   1.28900000e+02   2.56800000e+02   3.84700000e+02\n",
      "   5.12600000e+02   6.40500000e+02   7.68400000e+02   8.96300000e+02\n",
      "   1.02420000e+03   1.15210000e+03   1.28000000e+03]\n",
      "n:  [ 232.   25.   14.    0.    2.    0.    0.    0.    0.    5.]\n",
      "-------------------------- A/Solomon Islands/3/2006 --------------------------\n"
     ]
    },
    {
     "data": {
      "image/png": "[encoded data removed]",
      "text/plain": [
       "<matplotlib.figure.Figure at 0x7f911ada8400>"
      ]
     },
     "metadata": {},
     "output_type": "display_data"
    },
    {
     "name": "stdout",
     "output_type": "stream",
     "text": [
      "bins:  [   1.5    14.15   26.8    39.45   52.1    64.75   77.4    90.05  102.7\n",
      "  115.35  128.  ]\n",
      "n:  [ 24.  11.  12.   3.   3.   0.   1.   0.   0.   1.]\n",
      "-------------------------- A/South Dakota/06/2007 --------------------------\n"
     ]
    },
    {
     "data": {
      "image/png": "[encoded data removed]",
      "text/plain": [
       "<matplotlib.figure.Figure at 0x7f911ada81d0>"
      ]
     },
     "metadata": {},
     "output_type": "display_data"
    },
    {
     "name": "stdout",
     "output_type": "stream",
     "text": [
      "bins:  [    5.    132.5   260.    387.5   515.    642.5   770.    897.5  1025.\n",
      "  1152.5  1280. ]\n",
      "n:  [ 155.    5.    3.    0.    2.    0.    0.    0.    0.    3.]\n",
      "-------------------------- A/Texas/50/2012 --------------------------\n"
     ]
    },
    {
     "data": {
      "image/png": "[encoded data removed]",
      "text/plain": [
       "<matplotlib.figure.Figure at 0x7f911dc1aef0>"
      ]
     },
     "metadata": {},
     "output_type": "display_data"
    },
    {
     "name": "stdout",
     "output_type": "stream",
     "text": [
      "bins:  [   10.   137.   264.   391.   518.   645.   772.   899.  1026.  1153.\n",
      "  1280.]\n",
      "n:  [ 74.  30.  20.   0.  15.   0.   0.   0.   0.  11.]\n",
      "-------------------------- A/Uruguay/716/2007 --------------------------\n"
     ]
    },
    {
     "data": {
      "image/png": "[encoded data removed]",
      "text/plain": [
       "<matplotlib.figure.Figure at 0x7f911ab9bf28>"
      ]
     },
     "metadata": {},
     "output_type": "display_data"
    },
    {
     "name": "stdout",
     "output_type": "stream",
     "text": [
      "bins:  [    4.    259.6   515.2   770.8  1026.4  1282.   1537.6  1793.2  2048.8\n",
      "  2304.4  2560. ]\n",
      "n:  [ 265.    8.    7.    0.    4.    0.    0.    0.    0.    1.]\n",
      "-------------------------- A/Victoria/3/1975 --------------------------\n"
     ]
    },
    {
     "data": {
      "image/png": "[encoded data removed]",
      "text/plain": [
       "<matplotlib.figure.Figure at 0x7f911b1aaac8>"
      ]
     },
     "metadata": {},
     "output_type": "display_data"
    },
    {
     "name": "stdout",
     "output_type": "stream",
     "text": [
      "bins:  [   5.    36.5   68.    99.5  131.   162.5  194.   225.5  257.   288.5\n",
      "  320. ]\n",
      "n:  [ 80.  47.  30.   0.   6.   0.   0.   0.   0.   4.]\n",
      "-------------------------- A/Victoria/361/2011 --------------------------\n"
     ]
    },
    {
     "data": {
      "image/png": "[encoded data removed]",
      "text/plain": [
       "<matplotlib.figure.Figure at 0x7f911e15c358>"
      ]
     },
     "metadata": {},
     "output_type": "display_data"
    },
    {
     "name": "stdout",
     "output_type": "stream",
     "text": [
      "bins:  [    5.    132.5   260.    387.5   515.    642.5   770.    897.5  1025.\n",
      "  1152.5  1280. ]\n",
      "n:  [ 130.   55.   33.    0.   14.    0.    0.    0.    0.    8.]\n",
      "-------------------------- A/Wisconsin/67/2005 --------------------------\n"
     ]
    },
    {
     "data": {
      "image/png": "[encoded data removed]",
      "text/plain": [
       "<matplotlib.figure.Figure at 0x7f911ae0b828>"
      ]
     },
     "metadata": {},
     "output_type": "display_data"
    },
    {
     "name": "stdout",
     "output_type": "stream",
     "text": [
      "bins:  [  2.00000000e+00   2.57800000e+02   5.13600000e+02   7.69400000e+02\n",
      "   1.02520000e+03   1.28100000e+03   1.53680000e+03   1.79260000e+03\n",
      "   2.04840000e+03   2.30420000e+03   2.56000000e+03]\n",
      "n:  [ 49.   0.   0.   0.   0.   0.   0.   0.   0.   1.]\n",
      "-------------------------- B/Brisbane/03/2007 --------------------------\n"
     ]
    },
    {
     "data": {
      "image/png": "[encoded data removed]",
      "text/plain": [
       "<matplotlib.figure.Figure at 0x7f911dbf3eb8>"
      ]
     },
     "metadata": {},
     "output_type": "display_data"
    },
    {
     "name": "stdout",
     "output_type": "stream",
     "text": [
      "bins:  [   5.    36.5   68.    99.5  131.   162.5  194.   225.5  257.   288.5\n",
      "  320. ]\n",
      "n:  [ 13.   2.   2.   0.   1.   0.   0.   0.   0.   2.]\n",
      "-------------------------- B/Brisbane/60/2008 --------------------------\n"
     ]
    },
    {
     "data": {
      "image/png": "[encoded data removed]",
      "text/plain": [
       "<matplotlib.figure.Figure at 0x7f911ae0b4a8>"
      ]
     },
     "metadata": {},
     "output_type": "display_data"
    },
    {
     "name": "stdout",
     "output_type": "stream",
     "text": [
      "bins:  [   1.    64.9  128.8  192.7  256.6  320.5  384.4  448.3  512.2  576.1\n",
      "  640. ]\n",
      "n:  [ 389.   87.   35.    0.    8.    0.    0.    0.    0.    5.]\n",
      "-------------------------- B/Florida/4/2006 --------------------------\n"
     ]
    },
    {
     "data": {
      "image/png": "[encoded data removed]",
      "text/plain": [
       "<matplotlib.figure.Figure at 0x7f911e14ba58>"
      ]
     },
     "metadata": {},
     "output_type": "display_data"
    },
    {
     "name": "stdout",
     "output_type": "stream",
     "text": [
      "bins:  [    5.    132.5   260.    387.5   515.    642.5   770.    897.5  1025.\n",
      "  1152.5  1280. ]\n",
      "n:  [ 239.    9.    2.    0.    2.    0.    0.    0.    0.    4.]\n",
      "-------------------------- B/Lee/1940 --------------------------\n"
     ]
    },
    {
     "data": {
      "image/png": "[encoded data removed]",
      "text/plain": [
       "<matplotlib.figure.Figure at 0x7f911b272828>"
      ]
     },
     "metadata": {},
     "output_type": "display_data"
    },
    {
     "name": "stdout",
     "output_type": "stream",
     "text": [
      "bins:  [    5.    132.5   260.    387.5   515.    642.5   770.    897.5  1025.\n",
      "  1152.5  1280. ]\n",
      "n:  [ 147.   15.    3.    0.    1.    0.    0.    0.    0.    1.]\n",
      "-------------------------- B/Malaysia/2506/2004 --------------------------\n"
     ]
    },
    {
     "data": {
      "image/png": "[encoded data removed]",
      "text/plain": [
       "<matplotlib.figure.Figure at 0x7f911b10aa58>"
      ]
     },
     "metadata": {},
     "output_type": "display_data"
    },
    {
     "name": "stdout",
     "output_type": "stream",
     "text": [
      "bins:  [  5.   12.5  20.   27.5  35.   42.5  50.   57.5  65.   72.5  80. ]\n",
      "n:  [ 4.  0.  0.  0.  0.  0.  0.  0.  0.  1.]\n",
      "-------------------------- B/Massachusetts/02/2012 --------------------------\n"
     ]
    },
    {
     "data": {
      "image/png": "[encoded data removed]",
      "text/plain": [
       "<matplotlib.figure.Figure at 0x7f911b2f4dd8>"
      ]
     },
     "metadata": {},
     "output_type": "display_data"
    },
    {
     "name": "stdout",
     "output_type": "stream",
     "text": [
      "bins:  [   1.    64.9  128.8  192.7  256.6  320.5  384.4  448.3  512.2  576.1\n",
      "  640. ]\n",
      "n:  [ 104.   55.   22.    0.   12.    0.    0.    0.    0.    5.]\n",
      "-------------------------- B/Wisconsin/01/2010 --------------------------\n"
     ]
    },
    {
     "data": {
      "image/png": "[encoded data removed]",
      "text/plain": [
       "<matplotlib.figure.Figure at 0x7f911ec48278>"
      ]
     },
     "metadata": {},
     "output_type": "display_data"
    },
    {
     "name": "stdout",
     "output_type": "stream",
     "text": [
      "bins:  [   1.    32.9   64.8   96.7  128.6  160.5  192.4  224.3  256.2  288.1\n",
      "  320. ]\n",
      "n:  [ 103.   36.   33.    0.   16.    0.    0.    0.    0.    4.]\n",
      "-------------------------- None --------------------------\n"
     ]
    },
    {
     "data": {
      "image/png": "[encoded data removed]",
      "text/plain": [
       "<matplotlib.figure.Figure at 0x7f911b13c7b8>"
      ]
     },
     "metadata": {},
     "output_type": "display_data"
    },
    {
     "name": "stdout",
     "output_type": "stream",
     "text": [
      "bins:  [ 0.   0.1  0.2  0.3  0.4  0.5  0.6  0.7  0.8  0.9  1. ]\n",
      "n:  [ 0.  0.  0.  0.  0.  0.  0.  0.  0.  0.]\n"
     ]
    }
   ],
   "source": [
    "for strain in strains:\n",
    "    \n",
    "    data = hai_result[hai_result['virus_strain_preferred']==strain]\n",
    "    day0 = data[data['study_time_collected'] == 0]\n",
    "    plt.figure(figsize=(15,5));\n",
    "    plt.xticks(np.arange(0, max(hai_result['value_preferred']), step=50) )\n",
    "    \n",
    "    n, bins, patches = plt.hist(day0['value_preferred'])\n",
    "    print('--------------------------', strain, '--------------------------')\n",
    "    plt.show();\n",
    "    plt.close()\n",
    "    print('bins: ', bins)\n",
    "    print('n: ', n)\n"
   ]
  },
  {
   "cell_type": "markdown",
   "metadata": {},
   "source": [
    "%%time\n",
    "\n",
    "studies = sorted(hai_result['study_accession'].unique())\n",
    "for study in studies:\n",
    "    print('\\t\\t===========', study, '===========')\n",
    "    df = hai_result.loc[hai_result['study_accession'] == study]\n",
    "    subjects = sorted(df['subject_accession'].unique())\n",
    "    for subject in subjects:\n",
    "        \n",
    "        sub_data = df[df['subject_accession']==subject]\n",
    "        strains = sorted(sub_data['virus_strain_preferred'].unique().astype(str))\n",
    "        print('\\t\\t----------', subject, '----------')\n",
    "        for strain in strains:\n",
    "            if strain != 'None':\n",
    "                data = sub_data[sub_data['virus_strain_preferred']==strain]\n",
    "                data.plot.scatter(x='study_time_collected',y='value_preferred', c= 'DarkBlue', title =strain)\n",
    "                plt.show();\n",
    "                plt.close()\n",
    "        print('--------------------------------------------------------')\n",
    "\n"
   ]
  },
  {
   "cell_type": "markdown",
   "metadata": {
    "collapsed": true
   },
   "source": [
    "%%time\n",
    "use this one for inspiration\n",
    "studies = sorted(hai_result['study_accession'].unique())\n",
    "for study in studies:\n",
    "    print('\\t\\t===========', study, '===========')\n",
    "    df = hai_result.loc[hai_result['study_accession'] == study]\n",
    "    subjects = sorted(df['subject_accession'].unique())\n",
    "    for subject in subjects:\n",
    "        \n",
    "        sub_data = df[df['subject_accession']==subject]\n",
    "        strains = sorted(sub_data['virus_strain_preferred'].unique().astype(str))\n",
    "        print('\\t\\t----------', subject, '----------')\n",
    "        for strain in strains:\n",
    "            if strain != 'None':\n",
    "                data = sub_data[sub_data['virus_strain_preferred']==strain]\n",
    "                data.plot.scatter(x='study_time_collected',y='value_preferred', c= 'DarkBlue', title =strain)\n",
    "                plt.show();\n",
    "                plt.close()\n",
    "        print('--------------------------------------------------------')"
   ]
  },
  {
   "cell_type": "markdown",
   "metadata": {},
   "source": [
    "'''\n",
    "temp = pd\n",
    "for i in hai_result:\n",
    "    iterate thru hai result\n",
    "    check if the day is 0 \n",
    "        if so change the list of values\n",
    "        if not, add the values to the list\n",
    "    get geometric mean of the list \n",
    "    add that to the studies page\n",
    "    litlit\n",
    "'''\n",
    "studies = sorted(hai_result['study_accession'].unique())\n",
    "means = []\n",
    "\n",
    "for study in studies:\n",
    "    print('\\t\\t===========', study, '===========')\n",
    "    df = hai_result.loc[hai_result['study_accession'] == study]\n",
    "    subjects = sorted(df['subject_accession'].unique())\n",
    "    for subject in subjects:\n",
    "#         print(subject['study_accession'])\n",
    "        temp = df[df['subject_accession']]"
   ]
  },
  {
   "cell_type": "code",
   "execution_count": null,
   "metadata": {
    "collapsed": true
   },
   "outputs": [],
   "source": [
    "\n",
    "\n"
   ]
  }
 ],
 "metadata": {
  "kernelspec": {
   "display_name": "Python 3",
   "language": "python",
   "name": "python3"
  },
  "language_info": {
   "codemirror_mode": {
    "name": "ipython",
    "version": 3
   },
   "file_extension": ".py",
   "mimetype": "text/x-python",
   "name": "python",
   "nbconvert_exporter": "python",
   "pygments_lexer": "ipython3",
   "version": "3.6.1"
  }
 },
 "nbformat": 4,
 "nbformat_minor": 2
}
