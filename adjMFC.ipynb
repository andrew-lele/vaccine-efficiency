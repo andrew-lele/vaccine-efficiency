{
 "cells": [
  {
   "cell_type": "markdown",
   "metadata": {},
   "source": []
  },
  {
   "cell_type": "code",
   "execution_count": 28,
   "metadata": {
    "collapsed": true
   },
   "outputs": [],
   "source": [
    "import os\n",
    "import pandas as pd\n",
    "import seaborn as sns\n",
    "import mysql.connector\n",
    "from sqlalchemy import create_engine\n",
    "from sqlalchemy import (Column, DateTime, Integer, Numeric, Float, String, Text)\n",
    "\n",
    "%matplotlib inline\n",
    "import matplotlib.pyplot as plt\n",
    "import numpy as np\n",
    "from scipy.stats.mstats import gmean"
   ]
  },
  {
   "cell_type": "code",
   "execution_count": 29,
   "metadata": {},
   "outputs": [
    {
     "data": {
      "text/plain": [
       "'1.12.1'"
      ]
     },
     "execution_count": 29,
     "metadata": {},
     "output_type": "execute_result"
    }
   ],
   "source": [
    "np.__version__"
   ]
  },
  {
   "cell_type": "code",
   "execution_count": 30,
   "metadata": {
    "collapsed": true
   },
   "outputs": [],
   "source": [
    "immport_user = os.getenv(\"IMMPORT_USER\",\"USER\")\n",
    "immport_password = os.getenv(\"IMMPORT_PASSWORD\",\"PASSWORD\")\n",
    "immport_database = os.getenv(\"IMMPORT_DATABASE\",\"DR26\")\n",
    "immport_host = os.getenv(\"IMMPORT_HOST\",\"127.0.0.1\")"
   ]
  },
  {
   "cell_type": "code",
   "execution_count": 31,
   "metadata": {
    "collapsed": true
   },
   "outputs": [],
   "source": [
    "conn1 = f\"mysql+mysqlconnector://{immport_user}:{immport_password}@{immport_host}:3306/{immport_database}\"\n",
    "immportConn = create_engine(conn1, connect_args={'connect_timeout': 120 }, echo=False)\n"
   ]
  },
  {
   "cell_type": "code",
   "execution_count": 32,
   "metadata": {},
   "outputs": [
    {
     "data": {
      "text/html": [
       "<div>\n",
       "<style>\n",
       "    .dataframe thead tr:only-child th {\n",
       "        text-align: right;\n",
       "    }\n",
       "\n",
       "    .dataframe thead th {\n",
       "        text-align: left;\n",
       "    }\n",
       "\n",
       "    .dataframe tbody tr th {\n",
       "        vertical-align: top;\n",
       "    }\n",
       "</style>\n",
       "<table border=\"1\" class=\"dataframe\">\n",
       "  <thead>\n",
       "    <tr style=\"text-align: right;\">\n",
       "      <th></th>\n",
       "      <th>subject_accession</th>\n",
       "      <th>study_accession</th>\n",
       "      <th>study_time_collected</th>\n",
       "      <th>value_preferred</th>\n",
       "      <th>virus_strain_preferred</th>\n",
       "    </tr>\n",
       "  </thead>\n",
       "  <tbody>\n",
       "    <tr>\n",
       "      <th>0</th>\n",
       "      <td>SUB112832</td>\n",
       "      <td>SDY269</td>\n",
       "      <td>0.0</td>\n",
       "      <td>20.0</td>\n",
       "      <td>A/Brisbane/59/2007</td>\n",
       "    </tr>\n",
       "    <tr>\n",
       "      <th>1</th>\n",
       "      <td>SUB112832</td>\n",
       "      <td>SDY269</td>\n",
       "      <td>28.0</td>\n",
       "      <td>20.0</td>\n",
       "      <td>A/Brisbane/59/2007</td>\n",
       "    </tr>\n",
       "    <tr>\n",
       "      <th>2</th>\n",
       "      <td>SUB112832</td>\n",
       "      <td>SDY269</td>\n",
       "      <td>0.0</td>\n",
       "      <td>5.0</td>\n",
       "      <td>A/Uruguay/716/2007</td>\n",
       "    </tr>\n",
       "    <tr>\n",
       "      <th>3</th>\n",
       "      <td>SUB112832</td>\n",
       "      <td>SDY269</td>\n",
       "      <td>28.0</td>\n",
       "      <td>5.0</td>\n",
       "      <td>A/Uruguay/716/2007</td>\n",
       "    </tr>\n",
       "    <tr>\n",
       "      <th>4</th>\n",
       "      <td>SUB112832</td>\n",
       "      <td>SDY269</td>\n",
       "      <td>0.0</td>\n",
       "      <td>5.0</td>\n",
       "      <td>B/Brisbane/03/2007</td>\n",
       "    </tr>\n",
       "    <tr>\n",
       "      <th>5</th>\n",
       "      <td>SUB112832</td>\n",
       "      <td>SDY269</td>\n",
       "      <td>28.0</td>\n",
       "      <td>5.0</td>\n",
       "      <td>B/Brisbane/03/2007</td>\n",
       "    </tr>\n",
       "    <tr>\n",
       "      <th>6</th>\n",
       "      <td>SUB112832</td>\n",
       "      <td>SDY61</td>\n",
       "      <td>0.0</td>\n",
       "      <td>40.0</td>\n",
       "      <td>A/Solomon Islands/3/2006</td>\n",
       "    </tr>\n",
       "    <tr>\n",
       "      <th>7</th>\n",
       "      <td>SUB112832</td>\n",
       "      <td>SDY61</td>\n",
       "      <td>28.0</td>\n",
       "      <td>640.0</td>\n",
       "      <td>A/Solomon Islands/3/2006</td>\n",
       "    </tr>\n",
       "    <tr>\n",
       "      <th>8</th>\n",
       "      <td>SUB112832</td>\n",
       "      <td>SDY61</td>\n",
       "      <td>0.0</td>\n",
       "      <td>5.0</td>\n",
       "      <td>A/Wisconsin/67/2005</td>\n",
       "    </tr>\n",
       "    <tr>\n",
       "      <th>9</th>\n",
       "      <td>SUB112832</td>\n",
       "      <td>SDY61</td>\n",
       "      <td>28.0</td>\n",
       "      <td>160.0</td>\n",
       "      <td>A/Wisconsin/67/2005</td>\n",
       "    </tr>\n",
       "    <tr>\n",
       "      <th>10</th>\n",
       "      <td>SUB112832</td>\n",
       "      <td>SDY61</td>\n",
       "      <td>0.0</td>\n",
       "      <td>10.0</td>\n",
       "      <td>B/Malaysia/2506/2004</td>\n",
       "    </tr>\n",
       "    <tr>\n",
       "      <th>11</th>\n",
       "      <td>SUB112832</td>\n",
       "      <td>SDY61</td>\n",
       "      <td>28.0</td>\n",
       "      <td>20.0</td>\n",
       "      <td>B/Malaysia/2506/2004</td>\n",
       "    </tr>\n",
       "    <tr>\n",
       "      <th>12</th>\n",
       "      <td>SUB112834</td>\n",
       "      <td>SDY269</td>\n",
       "      <td>0.0</td>\n",
       "      <td>5.0</td>\n",
       "      <td>A/Brisbane/59/2007</td>\n",
       "    </tr>\n",
       "    <tr>\n",
       "      <th>13</th>\n",
       "      <td>SUB112834</td>\n",
       "      <td>SDY269</td>\n",
       "      <td>28.0</td>\n",
       "      <td>160.0</td>\n",
       "      <td>A/Brisbane/59/2007</td>\n",
       "    </tr>\n",
       "    <tr>\n",
       "      <th>14</th>\n",
       "      <td>SUB112834</td>\n",
       "      <td>SDY269</td>\n",
       "      <td>0.0</td>\n",
       "      <td>5.0</td>\n",
       "      <td>A/Uruguay/716/2007</td>\n",
       "    </tr>\n",
       "    <tr>\n",
       "      <th>15</th>\n",
       "      <td>SUB112834</td>\n",
       "      <td>SDY269</td>\n",
       "      <td>28.0</td>\n",
       "      <td>80.0</td>\n",
       "      <td>A/Uruguay/716/2007</td>\n",
       "    </tr>\n",
       "    <tr>\n",
       "      <th>16</th>\n",
       "      <td>SUB112834</td>\n",
       "      <td>SDY269</td>\n",
       "      <td>0.0</td>\n",
       "      <td>5.0</td>\n",
       "      <td>B/Brisbane/03/2007</td>\n",
       "    </tr>\n",
       "    <tr>\n",
       "      <th>17</th>\n",
       "      <td>SUB112834</td>\n",
       "      <td>SDY269</td>\n",
       "      <td>28.0</td>\n",
       "      <td>40.0</td>\n",
       "      <td>B/Brisbane/03/2007</td>\n",
       "    </tr>\n",
       "    <tr>\n",
       "      <th>18</th>\n",
       "      <td>SUB112841</td>\n",
       "      <td>SDY269</td>\n",
       "      <td>0.0</td>\n",
       "      <td>10.0</td>\n",
       "      <td>A/Brisbane/59/2007</td>\n",
       "    </tr>\n",
       "    <tr>\n",
       "      <th>19</th>\n",
       "      <td>SUB112841</td>\n",
       "      <td>SDY269</td>\n",
       "      <td>28.0</td>\n",
       "      <td>640.0</td>\n",
       "      <td>A/Brisbane/59/2007</td>\n",
       "    </tr>\n",
       "    <tr>\n",
       "      <th>20</th>\n",
       "      <td>SUB112841</td>\n",
       "      <td>SDY269</td>\n",
       "      <td>0.0</td>\n",
       "      <td>5.0</td>\n",
       "      <td>A/Uruguay/716/2007</td>\n",
       "    </tr>\n",
       "    <tr>\n",
       "      <th>21</th>\n",
       "      <td>SUB112841</td>\n",
       "      <td>SDY269</td>\n",
       "      <td>28.0</td>\n",
       "      <td>640.0</td>\n",
       "      <td>A/Uruguay/716/2007</td>\n",
       "    </tr>\n",
       "    <tr>\n",
       "      <th>22</th>\n",
       "      <td>SUB112841</td>\n",
       "      <td>SDY269</td>\n",
       "      <td>0.0</td>\n",
       "      <td>20.0</td>\n",
       "      <td>B/Brisbane/03/2007</td>\n",
       "    </tr>\n",
       "    <tr>\n",
       "      <th>23</th>\n",
       "      <td>SUB112841</td>\n",
       "      <td>SDY269</td>\n",
       "      <td>28.0</td>\n",
       "      <td>80.0</td>\n",
       "      <td>B/Brisbane/03/2007</td>\n",
       "    </tr>\n",
       "    <tr>\n",
       "      <th>24</th>\n",
       "      <td>SUB112841</td>\n",
       "      <td>SDY61</td>\n",
       "      <td>0.0</td>\n",
       "      <td>40.0</td>\n",
       "      <td>A/Solomon Islands/3/2006</td>\n",
       "    </tr>\n",
       "    <tr>\n",
       "      <th>25</th>\n",
       "      <td>SUB112841</td>\n",
       "      <td>SDY61</td>\n",
       "      <td>28.0</td>\n",
       "      <td>80.0</td>\n",
       "      <td>A/Solomon Islands/3/2006</td>\n",
       "    </tr>\n",
       "    <tr>\n",
       "      <th>26</th>\n",
       "      <td>SUB112841</td>\n",
       "      <td>SDY61</td>\n",
       "      <td>0.0</td>\n",
       "      <td>5.0</td>\n",
       "      <td>A/Wisconsin/67/2005</td>\n",
       "    </tr>\n",
       "    <tr>\n",
       "      <th>27</th>\n",
       "      <td>SUB112841</td>\n",
       "      <td>SDY61</td>\n",
       "      <td>28.0</td>\n",
       "      <td>160.0</td>\n",
       "      <td>A/Wisconsin/67/2005</td>\n",
       "    </tr>\n",
       "    <tr>\n",
       "      <th>28</th>\n",
       "      <td>SUB112841</td>\n",
       "      <td>SDY61</td>\n",
       "      <td>0.0</td>\n",
       "      <td>5.0</td>\n",
       "      <td>B/Malaysia/2506/2004</td>\n",
       "    </tr>\n",
       "    <tr>\n",
       "      <th>29</th>\n",
       "      <td>SUB112841</td>\n",
       "      <td>SDY61</td>\n",
       "      <td>28.0</td>\n",
       "      <td>40.0</td>\n",
       "      <td>B/Malaysia/2506/2004</td>\n",
       "    </tr>\n",
       "    <tr>\n",
       "      <th>...</th>\n",
       "      <td>...</td>\n",
       "      <td>...</td>\n",
       "      <td>...</td>\n",
       "      <td>...</td>\n",
       "      <td>...</td>\n",
       "    </tr>\n",
       "    <tr>\n",
       "      <th>7625</th>\n",
       "      <td>SUB146492</td>\n",
       "      <td>SDY515</td>\n",
       "      <td>0.0</td>\n",
       "      <td>10.0</td>\n",
       "      <td>A/California/7/2009</td>\n",
       "    </tr>\n",
       "    <tr>\n",
       "      <th>7626</th>\n",
       "      <td>SUB146492</td>\n",
       "      <td>SDY515</td>\n",
       "      <td>28.0</td>\n",
       "      <td>320.0</td>\n",
       "      <td>A/California/7/2009</td>\n",
       "    </tr>\n",
       "    <tr>\n",
       "      <th>7627</th>\n",
       "      <td>SUB146492</td>\n",
       "      <td>SDY515</td>\n",
       "      <td>0.0</td>\n",
       "      <td>20.0</td>\n",
       "      <td>A/Perth/16/2009</td>\n",
       "    </tr>\n",
       "    <tr>\n",
       "      <th>7628</th>\n",
       "      <td>SUB146492</td>\n",
       "      <td>SDY515</td>\n",
       "      <td>28.0</td>\n",
       "      <td>320.0</td>\n",
       "      <td>A/Perth/16/2009</td>\n",
       "    </tr>\n",
       "    <tr>\n",
       "      <th>7629</th>\n",
       "      <td>SUB146492</td>\n",
       "      <td>SDY515</td>\n",
       "      <td>0.0</td>\n",
       "      <td>10.0</td>\n",
       "      <td>B/Brisbane/60/2008</td>\n",
       "    </tr>\n",
       "    <tr>\n",
       "      <th>7630</th>\n",
       "      <td>SUB146492</td>\n",
       "      <td>SDY515</td>\n",
       "      <td>28.0</td>\n",
       "      <td>320.0</td>\n",
       "      <td>B/Brisbane/60/2008</td>\n",
       "    </tr>\n",
       "    <tr>\n",
       "      <th>7631</th>\n",
       "      <td>SUB146503</td>\n",
       "      <td>SDY515</td>\n",
       "      <td>0.0</td>\n",
       "      <td>1.0</td>\n",
       "      <td>A/California/7/2009</td>\n",
       "    </tr>\n",
       "    <tr>\n",
       "      <th>7632</th>\n",
       "      <td>SUB146503</td>\n",
       "      <td>SDY515</td>\n",
       "      <td>28.0</td>\n",
       "      <td>40.0</td>\n",
       "      <td>A/California/7/2009</td>\n",
       "    </tr>\n",
       "    <tr>\n",
       "      <th>7633</th>\n",
       "      <td>SUB146503</td>\n",
       "      <td>SDY515</td>\n",
       "      <td>0.0</td>\n",
       "      <td>1.0</td>\n",
       "      <td>A/Perth/16/2009</td>\n",
       "    </tr>\n",
       "    <tr>\n",
       "      <th>7634</th>\n",
       "      <td>SUB146503</td>\n",
       "      <td>SDY515</td>\n",
       "      <td>28.0</td>\n",
       "      <td>80.0</td>\n",
       "      <td>A/Perth/16/2009</td>\n",
       "    </tr>\n",
       "    <tr>\n",
       "      <th>7635</th>\n",
       "      <td>SUB146503</td>\n",
       "      <td>SDY515</td>\n",
       "      <td>0.0</td>\n",
       "      <td>1.0</td>\n",
       "      <td>B/Brisbane/60/2008</td>\n",
       "    </tr>\n",
       "    <tr>\n",
       "      <th>7636</th>\n",
       "      <td>SUB146503</td>\n",
       "      <td>SDY515</td>\n",
       "      <td>28.0</td>\n",
       "      <td>20.0</td>\n",
       "      <td>B/Brisbane/60/2008</td>\n",
       "    </tr>\n",
       "    <tr>\n",
       "      <th>7637</th>\n",
       "      <td>SUB146504</td>\n",
       "      <td>SDY515</td>\n",
       "      <td>0.0</td>\n",
       "      <td>40.0</td>\n",
       "      <td>A/California/7/2009</td>\n",
       "    </tr>\n",
       "    <tr>\n",
       "      <th>7638</th>\n",
       "      <td>SUB146504</td>\n",
       "      <td>SDY515</td>\n",
       "      <td>28.0</td>\n",
       "      <td>160.0</td>\n",
       "      <td>A/California/7/2009</td>\n",
       "    </tr>\n",
       "    <tr>\n",
       "      <th>7639</th>\n",
       "      <td>SUB146504</td>\n",
       "      <td>SDY515</td>\n",
       "      <td>0.0</td>\n",
       "      <td>10.0</td>\n",
       "      <td>A/Perth/16/2009</td>\n",
       "    </tr>\n",
       "    <tr>\n",
       "      <th>7640</th>\n",
       "      <td>SUB146504</td>\n",
       "      <td>SDY515</td>\n",
       "      <td>28.0</td>\n",
       "      <td>10.0</td>\n",
       "      <td>A/Perth/16/2009</td>\n",
       "    </tr>\n",
       "    <tr>\n",
       "      <th>7641</th>\n",
       "      <td>SUB146504</td>\n",
       "      <td>SDY515</td>\n",
       "      <td>0.0</td>\n",
       "      <td>40.0</td>\n",
       "      <td>B/Brisbane/60/2008</td>\n",
       "    </tr>\n",
       "    <tr>\n",
       "      <th>7642</th>\n",
       "      <td>SUB146504</td>\n",
       "      <td>SDY515</td>\n",
       "      <td>28.0</td>\n",
       "      <td>40.0</td>\n",
       "      <td>B/Brisbane/60/2008</td>\n",
       "    </tr>\n",
       "    <tr>\n",
       "      <th>7643</th>\n",
       "      <td>SUB146505</td>\n",
       "      <td>SDY515</td>\n",
       "      <td>0.0</td>\n",
       "      <td>80.0</td>\n",
       "      <td>A/California/7/2009</td>\n",
       "    </tr>\n",
       "    <tr>\n",
       "      <th>7644</th>\n",
       "      <td>SUB146505</td>\n",
       "      <td>SDY515</td>\n",
       "      <td>28.0</td>\n",
       "      <td>80.0</td>\n",
       "      <td>A/California/7/2009</td>\n",
       "    </tr>\n",
       "    <tr>\n",
       "      <th>7645</th>\n",
       "      <td>SUB146505</td>\n",
       "      <td>SDY515</td>\n",
       "      <td>0.0</td>\n",
       "      <td>10.0</td>\n",
       "      <td>A/Perth/16/2009</td>\n",
       "    </tr>\n",
       "    <tr>\n",
       "      <th>7646</th>\n",
       "      <td>SUB146505</td>\n",
       "      <td>SDY515</td>\n",
       "      <td>28.0</td>\n",
       "      <td>10.0</td>\n",
       "      <td>A/Perth/16/2009</td>\n",
       "    </tr>\n",
       "    <tr>\n",
       "      <th>7647</th>\n",
       "      <td>SUB146505</td>\n",
       "      <td>SDY515</td>\n",
       "      <td>0.0</td>\n",
       "      <td>20.0</td>\n",
       "      <td>B/Brisbane/60/2008</td>\n",
       "    </tr>\n",
       "    <tr>\n",
       "      <th>7648</th>\n",
       "      <td>SUB146505</td>\n",
       "      <td>SDY515</td>\n",
       "      <td>28.0</td>\n",
       "      <td>80.0</td>\n",
       "      <td>B/Brisbane/60/2008</td>\n",
       "    </tr>\n",
       "    <tr>\n",
       "      <th>7649</th>\n",
       "      <td>SUB146506</td>\n",
       "      <td>SDY515</td>\n",
       "      <td>0.0</td>\n",
       "      <td>40.0</td>\n",
       "      <td>A/California/7/2009</td>\n",
       "    </tr>\n",
       "    <tr>\n",
       "      <th>7650</th>\n",
       "      <td>SUB146506</td>\n",
       "      <td>SDY515</td>\n",
       "      <td>28.0</td>\n",
       "      <td>80.0</td>\n",
       "      <td>A/California/7/2009</td>\n",
       "    </tr>\n",
       "    <tr>\n",
       "      <th>7651</th>\n",
       "      <td>SUB146506</td>\n",
       "      <td>SDY515</td>\n",
       "      <td>0.0</td>\n",
       "      <td>10.0</td>\n",
       "      <td>A/Perth/16/2009</td>\n",
       "    </tr>\n",
       "    <tr>\n",
       "      <th>7652</th>\n",
       "      <td>SUB146506</td>\n",
       "      <td>SDY515</td>\n",
       "      <td>28.0</td>\n",
       "      <td>160.0</td>\n",
       "      <td>A/Perth/16/2009</td>\n",
       "    </tr>\n",
       "    <tr>\n",
       "      <th>7653</th>\n",
       "      <td>SUB146506</td>\n",
       "      <td>SDY515</td>\n",
       "      <td>0.0</td>\n",
       "      <td>40.0</td>\n",
       "      <td>B/Brisbane/60/2008</td>\n",
       "    </tr>\n",
       "    <tr>\n",
       "      <th>7654</th>\n",
       "      <td>SUB146506</td>\n",
       "      <td>SDY515</td>\n",
       "      <td>28.0</td>\n",
       "      <td>80.0</td>\n",
       "      <td>B/Brisbane/60/2008</td>\n",
       "    </tr>\n",
       "  </tbody>\n",
       "</table>\n",
       "<p>7655 rows × 5 columns</p>\n",
       "</div>"
      ],
      "text/plain": [
       "     subject_accession study_accession  study_time_collected  value_preferred  \\\n",
       "0            SUB112832          SDY269                   0.0             20.0   \n",
       "1            SUB112832          SDY269                  28.0             20.0   \n",
       "2            SUB112832          SDY269                   0.0              5.0   \n",
       "3            SUB112832          SDY269                  28.0              5.0   \n",
       "4            SUB112832          SDY269                   0.0              5.0   \n",
       "5            SUB112832          SDY269                  28.0              5.0   \n",
       "6            SUB112832           SDY61                   0.0             40.0   \n",
       "7            SUB112832           SDY61                  28.0            640.0   \n",
       "8            SUB112832           SDY61                   0.0              5.0   \n",
       "9            SUB112832           SDY61                  28.0            160.0   \n",
       "10           SUB112832           SDY61                   0.0             10.0   \n",
       "11           SUB112832           SDY61                  28.0             20.0   \n",
       "12           SUB112834          SDY269                   0.0              5.0   \n",
       "13           SUB112834          SDY269                  28.0            160.0   \n",
       "14           SUB112834          SDY269                   0.0              5.0   \n",
       "15           SUB112834          SDY269                  28.0             80.0   \n",
       "16           SUB112834          SDY269                   0.0              5.0   \n",
       "17           SUB112834          SDY269                  28.0             40.0   \n",
       "18           SUB112841          SDY269                   0.0             10.0   \n",
       "19           SUB112841          SDY269                  28.0            640.0   \n",
       "20           SUB112841          SDY269                   0.0              5.0   \n",
       "21           SUB112841          SDY269                  28.0            640.0   \n",
       "22           SUB112841          SDY269                   0.0             20.0   \n",
       "23           SUB112841          SDY269                  28.0             80.0   \n",
       "24           SUB112841           SDY61                   0.0             40.0   \n",
       "25           SUB112841           SDY61                  28.0             80.0   \n",
       "26           SUB112841           SDY61                   0.0              5.0   \n",
       "27           SUB112841           SDY61                  28.0            160.0   \n",
       "28           SUB112841           SDY61                   0.0              5.0   \n",
       "29           SUB112841           SDY61                  28.0             40.0   \n",
       "...                ...             ...                   ...              ...   \n",
       "7625         SUB146492          SDY515                   0.0             10.0   \n",
       "7626         SUB146492          SDY515                  28.0            320.0   \n",
       "7627         SUB146492          SDY515                   0.0             20.0   \n",
       "7628         SUB146492          SDY515                  28.0            320.0   \n",
       "7629         SUB146492          SDY515                   0.0             10.0   \n",
       "7630         SUB146492          SDY515                  28.0            320.0   \n",
       "7631         SUB146503          SDY515                   0.0              1.0   \n",
       "7632         SUB146503          SDY515                  28.0             40.0   \n",
       "7633         SUB146503          SDY515                   0.0              1.0   \n",
       "7634         SUB146503          SDY515                  28.0             80.0   \n",
       "7635         SUB146503          SDY515                   0.0              1.0   \n",
       "7636         SUB146503          SDY515                  28.0             20.0   \n",
       "7637         SUB146504          SDY515                   0.0             40.0   \n",
       "7638         SUB146504          SDY515                  28.0            160.0   \n",
       "7639         SUB146504          SDY515                   0.0             10.0   \n",
       "7640         SUB146504          SDY515                  28.0             10.0   \n",
       "7641         SUB146504          SDY515                   0.0             40.0   \n",
       "7642         SUB146504          SDY515                  28.0             40.0   \n",
       "7643         SUB146505          SDY515                   0.0             80.0   \n",
       "7644         SUB146505          SDY515                  28.0             80.0   \n",
       "7645         SUB146505          SDY515                   0.0             10.0   \n",
       "7646         SUB146505          SDY515                  28.0             10.0   \n",
       "7647         SUB146505          SDY515                   0.0             20.0   \n",
       "7648         SUB146505          SDY515                  28.0             80.0   \n",
       "7649         SUB146506          SDY515                   0.0             40.0   \n",
       "7650         SUB146506          SDY515                  28.0             80.0   \n",
       "7651         SUB146506          SDY515                   0.0             10.0   \n",
       "7652         SUB146506          SDY515                  28.0            160.0   \n",
       "7653         SUB146506          SDY515                   0.0             40.0   \n",
       "7654         SUB146506          SDY515                  28.0             80.0   \n",
       "\n",
       "        virus_strain_preferred  \n",
       "0           A/Brisbane/59/2007  \n",
       "1           A/Brisbane/59/2007  \n",
       "2           A/Uruguay/716/2007  \n",
       "3           A/Uruguay/716/2007  \n",
       "4           B/Brisbane/03/2007  \n",
       "5           B/Brisbane/03/2007  \n",
       "6     A/Solomon Islands/3/2006  \n",
       "7     A/Solomon Islands/3/2006  \n",
       "8          A/Wisconsin/67/2005  \n",
       "9          A/Wisconsin/67/2005  \n",
       "10        B/Malaysia/2506/2004  \n",
       "11        B/Malaysia/2506/2004  \n",
       "12          A/Brisbane/59/2007  \n",
       "13          A/Brisbane/59/2007  \n",
       "14          A/Uruguay/716/2007  \n",
       "15          A/Uruguay/716/2007  \n",
       "16          B/Brisbane/03/2007  \n",
       "17          B/Brisbane/03/2007  \n",
       "18          A/Brisbane/59/2007  \n",
       "19          A/Brisbane/59/2007  \n",
       "20          A/Uruguay/716/2007  \n",
       "21          A/Uruguay/716/2007  \n",
       "22          B/Brisbane/03/2007  \n",
       "23          B/Brisbane/03/2007  \n",
       "24    A/Solomon Islands/3/2006  \n",
       "25    A/Solomon Islands/3/2006  \n",
       "26         A/Wisconsin/67/2005  \n",
       "27         A/Wisconsin/67/2005  \n",
       "28        B/Malaysia/2506/2004  \n",
       "29        B/Malaysia/2506/2004  \n",
       "...                        ...  \n",
       "7625       A/California/7/2009  \n",
       "7626       A/California/7/2009  \n",
       "7627           A/Perth/16/2009  \n",
       "7628           A/Perth/16/2009  \n",
       "7629        B/Brisbane/60/2008  \n",
       "7630        B/Brisbane/60/2008  \n",
       "7631       A/California/7/2009  \n",
       "7632       A/California/7/2009  \n",
       "7633           A/Perth/16/2009  \n",
       "7634           A/Perth/16/2009  \n",
       "7635        B/Brisbane/60/2008  \n",
       "7636        B/Brisbane/60/2008  \n",
       "7637       A/California/7/2009  \n",
       "7638       A/California/7/2009  \n",
       "7639           A/Perth/16/2009  \n",
       "7640           A/Perth/16/2009  \n",
       "7641        B/Brisbane/60/2008  \n",
       "7642        B/Brisbane/60/2008  \n",
       "7643       A/California/7/2009  \n",
       "7644       A/California/7/2009  \n",
       "7645           A/Perth/16/2009  \n",
       "7646           A/Perth/16/2009  \n",
       "7647        B/Brisbane/60/2008  \n",
       "7648        B/Brisbane/60/2008  \n",
       "7649       A/California/7/2009  \n",
       "7650       A/California/7/2009  \n",
       "7651           A/Perth/16/2009  \n",
       "7652           A/Perth/16/2009  \n",
       "7653        B/Brisbane/60/2008  \n",
       "7654        B/Brisbane/60/2008  \n",
       "\n",
       "[7655 rows x 5 columns]"
      ]
     },
     "execution_count": 32,
     "metadata": {},
     "output_type": "execute_result"
    }
   ],
   "source": [
    "sql = f'''\n",
    "SELECT va.subject_accession, va.study_accession, va.study_time_collected,  va.value_preferred, va.virus_strain_preferred\n",
    "FROM vaccine_analysis va\n",
    "ORDER BY va.subject_accession, va.study_accession, va.virus_strain_preferred, va.study_time_collected\n",
    "'''\n",
    "\n",
    "hai_result = pd.read_sql(sql, immportConn)\n",
    "\n",
    "\n",
    "# print(hai_result['virus_strain_preferred'], hai_result['subject_accession'])\n"
   ]
  },
  {
   "cell_type": "code",
   "execution_count": null,
   "metadata": {
    "collapsed": true
   },
   "outputs": [],
   "source": [
    "def outliers(data):\n",
    "    (q30,q50,q70) = np.percentile(data, [30, 50, 70])\n",
    "    iqr = q70 - q30\n",
    "    mild_upper = (iqr * 1.5) + q70\n",
    "    mild_lower = q25 - (iqr * 1.5)\n",
    "    extreme_upper = (iqr * 3.0) + q70\n",
    "    extreme_lower = q30 - (iqr * 3.0) \n",
    "    return {\n",
    "        \"mild_lower\": mild_lower,\n",
    "        \"mild_upper\": mild_upper,\n",
    "        \"extreme_lower\": extreme_lower,\n",
    "        \"extreme_upper\": extreme_upper\n",
    "    }\n"
   ]
  },
  {
   "cell_type": "code",
   "execution_count": 33,
   "metadata": {},
   "outputs": [
    {
     "data": {
      "text/plain": [
       "array(['SDY269', 'SDY61', 'SDY112', 'SDY311', 'SDY312', 'SDY315', 'SDY478',\n",
       "       'SDY113', 'SDY305', 'SDY472', 'SDY198', 'SDY200', 'SDY196',\n",
       "       'SDY197', 'SDY199', 'SDY201', 'SDY296', 'SDY301', 'SDY212',\n",
       "       'SDY314', 'SDY369', 'SDY372', 'SDY376', 'SDY645', 'SDY406', 'SDY515'], dtype=object)"
      ]
     },
     "execution_count": 33,
     "metadata": {},
     "output_type": "execute_result"
    }
   ],
   "source": [
    "hai_result['study_accession'].unique()"
   ]
  },
  {
   "cell_type": "code",
   "execution_count": 34,
   "metadata": {},
   "outputs": [
    {
     "data": {
      "application/javascript": [
       "IPython.OutputArea.prototype._should_scroll = function(lines) {\n",
       "    return false;\n",
       "//     return true;\n",
       "\n",
       "}"
      ],
      "text/plain": [
       "<IPython.core.display.Javascript object>"
      ]
     },
     "metadata": {},
     "output_type": "display_data"
    }
   ],
   "source": [
    "%%javascript\n",
    "IPython.OutputArea.prototype._should_scroll = function(lines) {\n",
    "    return false;\n",
    "//     return true;\n",
    "\n",
    "}"
   ]
  },
  {
   "cell_type": "code",
   "execution_count": 37,
   "metadata": {},
   "outputs": [
    {
     "data": {
      "image/png": "[encoded data removed]",
      "text/plain": [
       "<matplotlib.figure.Figure at 0x7fbc8f4acac8>"
      ]
     },
     "metadata": {},
     "output_type": "display_data"
    }
   ],
   "source": [
    "studies = sorted(hai_result['study_accession'].unique())\n",
    "plt.figure();\n",
    "hai_result['study_time_collected'].plot.hist(title='study accession histogram', rot = 0)\n",
    "plt.show();\n",
    "plt.close()"
   ]
  },
  {
   "cell_type": "code",
   "execution_count": 38,
   "metadata": {},
   "outputs": [
    {
     "name": "stdout",
     "output_type": "stream",
     "text": [
      "['SDY112', 'SDY113', 'SDY196', 'SDY197', 'SDY198', 'SDY199', 'SDY200', 'SDY201', 'SDY212', 'SDY269', 'SDY296', 'SDY301', 'SDY305', 'SDY311', 'SDY312', 'SDY314', 'SDY315', 'SDY369', 'SDY372', 'SDY376', 'SDY406', 'SDY472', 'SDY478', 'SDY515', 'SDY61', 'SDY645']\n",
      "299\n",
      "27\n"
     ]
    }
   ],
   "source": [
    "print((sorted(hai_result['study_accession'].unique())) )\n",
    "print(len(sorted(hai_result['subject_accession'].unique())) )\n",
    "print(len(sorted(hai_result['study_time_collected'].unique())) )"
   ]
  },
  {
   "cell_type": "code",
   "execution_count": 39,
   "metadata": {},
   "outputs": [
    {
     "data": {
      "image/png": "[encoded data removed]",
      "text/plain": [
       "<matplotlib.figure.Figure at 0x7fbc8f4acfd0>"
      ]
     },
     "metadata": {},
     "output_type": "display_data"
    }
   ],
   "source": [
    "studies = sorted(hai_result['study_accession'].unique())\n",
    "\n",
    "plt.figure();\n",
    "histo = hai_result['value_preferred'].plot.hist(title='value_preferred')\n",
    "plt.show();\n",
    "plt.close()"
   ]
  },
  {
   "cell_type": "code",
   "execution_count": 40,
   "metadata": {},
   "outputs": [
    {
     "data": {
      "image/png": "[encoded data removed]",
      "text/plain": [
       "<matplotlib.figure.Figure at 0x7fbc8f4ac710>"
      ]
     },
     "metadata": {},
     "output_type": "display_data"
    }
   ],
   "source": [
    "plt.hist(hai_result['value_preferred'], normed = True)\n",
    "plt.show()\n",
    "plt.close()\n"
   ]
  },
  {
   "cell_type": "code",
   "execution_count": 41,
   "metadata": {},
   "outputs": [
    {
     "name": "stdout",
     "output_type": "stream",
     "text": [
      "CPU times: user 12.3 s, sys: 88 ms, total: 12.4 s\n",
      "Wall time: 12.4 s\n"
     ]
    }
   ],
   "source": [
    "%%time\n",
    "studies = sorted(hai_result['study_accession'].unique())\n",
    "day0 = pd.DataFrame(index=hai_result.index, columns=hai_result.columns)\n",
    "for study in studies:\n",
    "#     print('\\t\\t===========', study, '===========')\n",
    "    df = hai_result.loc[hai_result['study_accession'] == study]\n",
    "    subjects = sorted(df['subject_accession'].unique())\n",
    "    for subject in subjects:\n",
    "        \n",
    "        sub_data = df[df['subject_accession']==subject]\n",
    "        strains = sorted(sub_data['virus_strain_preferred'].unique().astype(str))\n",
    "#         print('\\t\\t----------', subject, '----------')\n",
    "        for strain in strains:\n",
    "            if strain != 'None':\n",
    "                data = sub_data[sub_data['virus_strain_preferred']==strain]\n",
    "                hold = data[data['study_time_collected']==0]\n",
    "                \n",
    "                # print(day0)\n"
   ]
  },
  {
   "cell_type": "code",
   "execution_count": 42,
   "metadata": {
    "collapsed": true
   },
   "outputs": [],
   "source": [
    "day0 = hai_result.loc[hai_result['virus_strain_preferred'] == 0]"
   ]
  },
  {
   "cell_type": "code",
   "execution_count": 43,
   "metadata": {},
   "outputs": [
    {
     "data": {
      "text/plain": [
       "['A/California/7/2009',\n",
       " 'A/Victoria/361/2011',\n",
       " 'B/Brisbane/60/2008',\n",
       " 'B/Massachusetts/02/2012']"
      ]
     },
     "execution_count": 43,
     "metadata": {},
     "output_type": "execute_result"
    }
   ],
   "source": [
    "strains"
   ]
  },
  {
   "cell_type": "code",
   "execution_count": 44,
   "metadata": {
    "collapsed": true
   },
   "outputs": [],
   "source": [
    "ran_study = hai_result.sample(frac=0.05)\n",
    "import random\n"
   ]
  },
  {
   "cell_type": "code",
   "execution_count": 45,
   "metadata": {},
   "outputs": [
    {
     "data": {
      "text/plain": [
       "array(['SDY113', 'SDY296', 'SDY312', 'SDY212', 'SDY315', 'SDY269', 'SDY376'], \n",
       "      dtype='<U6')"
      ]
     },
     "execution_count": 45,
     "metadata": {},
     "output_type": "execute_result"
    }
   ],
   "source": [
    "studies = sorted(hai_result['study_accession'].unique())\n",
    "#sample 30% of the studies\n",
    "samples = int( float(len(studies)) * 0.3 )\n",
    "studies = np.random.choice(studies, samples)\n",
    "strains = sorted(hai_result['virus_strain_preferred'].unique().astype(str))\n",
    "\n",
    "studies"
   ]
  },
  {
   "cell_type": "code",
   "execution_count": null,
   "metadata": {},
   "outputs": [
    {
     "name": "stdout",
     "output_type": "stream",
     "text": [
      "\t\t=========== SDY113 ===========\n",
      "-------------------------- A/California/7/2009  at day 0--------------------------\n"
     ]
    },
    {
     "data": {
      "image/png": "[encoded data removed]",
      "text/plain": [
       "<matplotlib.figure.Figure at 0x7fbc928e7a90>"
      ]
     },
     "metadata": {},
     "output_type": "display_data"
    },
    {
     "name": "stdout",
     "output_type": "stream",
     "text": [
      "bins:  [  1.    7.5  14.   20.5  27.   33.5  40. ]\n",
      "n:  [ 4.  4.  6.  0.  0.  5.]\n",
      "check these out :  14.587906551107999 20.0\n",
      "and here it is:  501    0.000000\n",
      "521   -1.302449\n",
      "540    0.000000\n",
      "560   -1.302449\n",
      "574   -1.302449\n",
      "586    0.000000\n",
      "598   -0.685499\n",
      "618   -1.302449\n",
      "638    1.370999\n",
      "652   -0.685499\n",
      "666   -0.685499\n",
      "672    0.000000\n",
      "686    1.370999\n",
      "706    0.000000\n",
      "718    1.370999\n",
      "727   -0.685499\n",
      "733    0.000000\n",
      "745    1.370999\n",
      "751    1.370999\n",
      "Name: adj_mfc, dtype: float64\n",
      "----------------------------real shit----------------------------------\n"
     ]
    },
    {
     "data": {
      "image/png": "[encoded data removed]",
      "text/plain": [
       "<matplotlib.figure.Figure at 0x7fbc8f279470>"
      ]
     },
     "metadata": {},
     "output_type": "display_data"
    },
    {
     "name": "stdout",
     "output_type": "stream",
     "text": [
      "-------------------------- A/California/7/2009  whole time course--------------------------\n"
     ]
    },
    {
     "data": {
      "image/png": "[encoded data removed]",
      "text/plain": [
       "<matplotlib.figure.Figure at 0x7fbc923dd208>"
      ]
     },
     "metadata": {},
     "output_type": "display_data"
    },
    {
     "name": "stdout",
     "output_type": "stream",
     "text": [
      "##############################################################################\n",
      "\n",
      "-------------------------- A/Perth/16/2009  at day 0--------------------------\n"
     ]
    },
    {
     "data": {
      "image/png": "[encoded data removed]",
      "text/plain": [
       "<matplotlib.figure.Figure at 0x7fbc8f75e400>"
      ]
     },
     "metadata": {},
     "output_type": "display_data"
    },
    {
     "name": "stdout",
     "output_type": "stream",
     "text": [
      "bins:  [   1.      20.875   40.75    60.625   80.5    100.375  120.25   140.125\n",
      "  160.   ]\n",
      "n:  [ 13.   2.   0.   3.   0.   0.   0.   1.]\n",
      "check these out :  40.168067967111966 20.0\n",
      "and here it is:  503    0.000000\n",
      "523   -0.248954\n",
      "542    0.000000\n",
      "562   -0.473013\n",
      "576   -0.473013\n",
      "588    1.493724\n",
      "600   -0.248954\n",
      "620   -0.248954\n",
      "640    0.497908\n",
      "654   -0.473013\n",
      "668   -0.248954\n",
      "674    0.497908\n",
      "688    1.493724\n",
      "708    0.000000\n",
      "720    1.493724\n",
      "729    0.000000\n",
      "735    3.485356\n",
      "747    0.000000\n",
      "753    0.000000\n",
      "Name: adj_mfc, dtype: float64\n",
      "----------------------------real shit----------------------------------\n"
     ]
    },
    {
     "data": {
      "image/png": "[encoded data removed]",
      "text/plain": [
       "<matplotlib.figure.Figure at 0x7fbc8f724e80>"
      ]
     },
     "metadata": {},
     "output_type": "display_data"
    },
    {
     "name": "stdout",
     "output_type": "stream",
     "text": [
      "-------------------------- A/Perth/16/2009  whole time course--------------------------\n"
     ]
    },
    {
     "data": {
      "image/png": "[encoded data removed]",
      "text/plain": [
       "<matplotlib.figure.Figure at 0x7fbc8f737320>"
      ]
     },
     "metadata": {},
     "output_type": "display_data"
    },
    {
     "name": "stdout",
     "output_type": "stream",
     "text": [
      "##############################################################################\n",
      "\n",
      "-------------------------- B/Brisbane/60/2008  at day 0--------------------------\n"
     ]
    },
    {
     "data": {
      "image/png": "[encoded data removed]",
      "text/plain": [
       "<matplotlib.figure.Figure at 0x7fbc8fc91a58>"
      ]
     },
     "metadata": {},
     "output_type": "display_data"
    },
    {
     "name": "stdout",
     "output_type": "stream",
     "text": [
      "bins:  [  1.          14.16666667  27.33333333  40.5         53.66666667\n",
      "  66.83333333  80.        ]\n",
      "n:  [ 6.  5.  4.  0.  0.  4.]\n",
      "check these out :  28.407436634451038 20.0\n",
      "and here it is:  505    0.704041\n",
      "525   -0.352020\n",
      "544    0.000000\n",
      "564   -0.668839\n",
      "578   -0.668839\n",
      "590    2.112123\n",
      "602    0.000000\n",
      "622   -0.668839\n",
      "642    0.704041\n",
      "656   -0.352020\n",
      "670   -0.352020\n",
      "676    0.000000\n",
      "690    2.112123\n",
      "710    0.704041\n",
      "722    2.112123\n",
      "731    0.000000\n",
      "737    2.112123\n",
      "749    0.000000\n",
      "755    0.704041\n",
      "Name: adj_mfc, dtype: float64\n",
      "----------------------------real shit----------------------------------\n"
     ]
    },
    {
     "data": {
      "image/png": "[encoded data removed]",
      "text/plain": [
       "<matplotlib.figure.Figure at 0x7fbc9266e6d8>"
      ]
     },
     "metadata": {},
     "output_type": "display_data"
    },
    {
     "name": "stdout",
     "output_type": "stream",
     "text": [
      "-------------------------- B/Brisbane/60/2008  whole time course--------------------------\n"
     ]
    },
    {
     "data": {
      "image/png": "[encoded data removed]",
      "text/plain": [
       "<matplotlib.figure.Figure at 0x7fbc8f64f320>"
      ]
     },
     "metadata": {},
     "output_type": "display_data"
    },
    {
     "name": "stdout",
     "output_type": "stream",
     "text": [
      "##############################################################################\n",
      "\n",
      "\t\t=========== SDY296 ===========\n",
      "-------------------------- A/California/7/2009  at day 0--------------------------\n"
     ]
    },
    {
     "data": {
      "image/png": "[encoded data removed]",
      "text/plain": [
       "<matplotlib.figure.Figure at 0x7fbc8f635390>"
      ]
     },
     "metadata": {},
     "output_type": "display_data"
    },
    {
     "name": "stdout",
     "output_type": "stream",
     "text": [
      "bins:  [   5.           27.67857143   50.35714286   73.03571429   95.71428571\n",
      "  118.39285714  141.07142857  163.75        186.42857143  209.10714286\n",
      "  231.78571429  254.46428571  277.14285714  299.82142857  322.5\n",
      "  345.17857143  367.85714286  390.53571429  413.21428571  435.89285714\n",
      "  458.57142857  481.25        503.92857143  526.60714286  549.28571429\n",
      "  571.96428571  594.64285714  617.32142857  640.        ]\n",
      "n:  [ 16.   5.   0.   3.   0.   0.   0.   0.   0.   0.   0.   0.   0.   2.   0.\n",
      "   0.   0.   0.   0.   0.   0.   0.   0.   0.   0.   0.   0.   1.]\n",
      "check these out :  141.38987540165974 5.0\n",
      "and here it is:  1732    0.000000\n",
      "1756    0.530448\n",
      "1780    0.000000\n",
      "1804    0.000000\n",
      "1810    0.000000\n",
      "1834    0.247542\n",
      "1858    0.000000\n",
      "1882    0.247542\n",
      "1906    0.247542\n",
      "1930    0.000000\n",
      "1954    0.000000\n",
      "1978    0.000000\n",
      "2002    0.247542\n",
      "2026    0.247542\n",
      "2050    2.227882\n",
      "2074    0.035363\n",
      "2098    0.530448\n",
      "2122    0.000000\n",
      "2146    0.106090\n",
      "2170    0.000000\n",
      "2194    0.000000\n",
      "2218    0.000000\n",
      "2242    0.000000\n",
      "2266    4.491128\n",
      "2290    0.530448\n",
      "2314    0.000000\n",
      "2338    2.227882\n",
      "Name: adj_mfc, dtype: float64\n",
      "----------------------------real shit----------------------------------\n"
     ]
    },
    {
     "data": {
      "image/png": "[encoded data removed]",
      "text/plain": [
       "<matplotlib.figure.Figure at 0x7fbc92918278>"
      ]
     },
     "metadata": {},
     "output_type": "display_data"
    },
    {
     "name": "stdout",
     "output_type": "stream",
     "text": [
      "-------------------------- A/California/7/2009  whole time course--------------------------\n"
     ]
    },
    {
     "data": {
      "image/png": "[encoded data removed]",
      "text/plain": [
       "<matplotlib.figure.Figure at 0x7fbc92355e48>"
      ]
     },
     "metadata": {},
     "output_type": "display_data"
    },
    {
     "name": "stdout",
     "output_type": "stream",
     "text": [
      "##############################################################################\n",
      "\n",
      "-------------------------- A/Perth/16/2009  at day 0--------------------------\n"
     ]
    },
    {
     "data": {
      "image/png": "[encoded data removed]",
      "text/plain": [
       "<matplotlib.figure.Figure at 0x7fbc8f6d9c88>"
      ]
     },
     "metadata": {},
     "output_type": "display_data"
    },
    {
     "name": "stdout",
     "output_type": "stream",
     "text": [
      "bins:  [    5.            52.22222222    99.44444444   146.66666667   193.88888889\n",
      "   241.11111111   288.33333333   335.55555556   382.77777778   430.\n",
      "   477.22222222   524.44444444   571.66666667   618.88888889   666.11111111\n",
      "   713.33333333   760.55555556   807.77777778   855.           902.22222222\n",
      "   949.44444444   996.66666667  1043.88888889  1091.11111111  1138.33333333\n",
      "  1185.55555556  1232.77777778  1280.        ]\n",
      "n:  [ 19.   4.   0.   2.   0.   0.   1.   0.   0.   0.   0.   0.   0.   0.   0.\n",
      "   0.   0.   0.   0.   0.   0.   0.   0.   0.   0.   0.   1.]\n",
      "check these out :  245.98456162614056 40.0\n",
      "and here it is:  1734    0.000000\n",
      "1758    0.162612\n",
      "1782    0.000000\n",
      "1806    0.000000\n",
      "1812   -0.142285\n",
      "1836   -0.142285\n",
      "1860   -0.142285\n",
      "1884   -0.081306\n",
      "1908    0.000000\n",
      "1932    0.000000\n",
      "1956   -0.121959\n",
      "1980   -0.142285\n",
      "2004    5.040967\n",
      "2028    1.138283\n",
      "2052    0.487835\n",
      "2076   -0.142285\n",
      "2100    0.162612\n",
      "2124   -0.142285\n",
      "2148    0.487835\n",
      "2172   -0.121959\n",
      "2196   -0.142285\n",
      "2220    0.162612\n",
      "2244    0.000000\n",
      "2268    0.000000\n",
      "2292   -0.081306\n",
      "2316   -0.081306\n",
      "2340    0.162612\n",
      "Name: adj_mfc, dtype: float64\n",
      "----------------------------real shit----------------------------------\n"
     ]
    },
    {
     "data": {
      "image/png": "[encoded data removed]",
      "text/plain": [
       "<matplotlib.figure.Figure at 0x7fbc923c35f8>"
      ]
     },
     "metadata": {},
     "output_type": "display_data"
    },
    {
     "name": "stdout",
     "output_type": "stream",
     "text": [
      "-------------------------- A/Perth/16/2009  whole time course--------------------------\n"
     ]
    },
    {
     "data": {
      "image/png": "[encoded data removed]",
      "text/plain": [
       "<matplotlib.figure.Figure at 0x7fbc8f29c668>"
      ]
     },
     "metadata": {},
     "output_type": "display_data"
    },
    {
     "name": "stdout",
     "output_type": "stream",
     "text": [
      "##############################################################################\n",
      "\n",
      "-------------------------- B/Brisbane/60/2008  at day 0--------------------------\n"
     ]
    },
    {
     "data": {
      "image/png": "[encoded data removed]",
      "text/plain": [
       "<matplotlib.figure.Figure at 0x7fbc8f45d7f0>"
      ]
     },
     "metadata": {},
     "output_type": "display_data"
    },
    {
     "name": "stdout",
     "output_type": "stream",
     "text": [
      "bins:  [   5.    36.5   68.    99.5  131.   162.5  194.   225.5  257.   288.5\n",
      "  320. ]\n",
      "n:  [ 15.   5.   4.   0.   2.   0.   0.   0.   0.   1.]\n",
      "check these out :  69.31440816660833 20.0\n",
      "and here it is:  1736    0.865621\n",
      "1760    0.288540\n",
      "1784    0.288540\n",
      "1808    0.288540\n",
      "1814    2.019782\n",
      "1838   -0.216405\n",
      "1862   -0.144270\n",
      "1886    0.288540\n",
      "1910   -0.144270\n",
      "1934   -0.216405\n",
      "1958   -0.144270\n",
      "1982   -0.216405\n",
      "2006    4.328104\n",
      "2030    0.865621\n",
      "2054    0.865621\n",
      "2078    0.000000\n",
      "2102   -0.216405\n",
      "2126    0.000000\n",
      "2150    0.000000\n",
      "2174   -0.216405\n",
      "2198   -0.144270\n",
      "2222    0.865621\n",
      "2246   -0.216405\n",
      "2270    2.019782\n",
      "2294   -0.144270\n",
      "2318    0.000000\n",
      "2342    0.288540\n",
      "Name: adj_mfc, dtype: float64\n",
      "----------------------------real shit----------------------------------\n"
     ]
    },
    {
     "data": {
      "image/png": "[encoded data removed]",
      "text/plain": [
       "<matplotlib.figure.Figure at 0x7fbc8f26a1d0>"
      ]
     },
     "metadata": {},
     "output_type": "display_data"
    },
    {
     "name": "stdout",
     "output_type": "stream",
     "text": [
      "-------------------------- B/Brisbane/60/2008  whole time course--------------------------\n"
     ]
    },
    {
     "data": {
      "image/png": "[encoded data removed]",
      "text/plain": [
       "<matplotlib.figure.Figure at 0x7fbc8f318898>"
      ]
     },
     "metadata": {},
     "output_type": "display_data"
    },
    {
     "name": "stdout",
     "output_type": "stream",
     "text": [
      "##############################################################################\n",
      "\n",
      "\t\t=========== SDY312 ===========\n",
      "-------------------------- A/South Dakota/06/2007  at day 0--------------------------\n"
     ]
    },
    {
     "data": {
      "image/png": "[encoded data removed]",
      "text/plain": [
       "<matplotlib.figure.Figure at 0x7fbc8f098c18>"
      ]
     },
     "metadata": {},
     "output_type": "display_data"
    },
    {
     "name": "stdout",
     "output_type": "stream",
     "text": [
      "bins:  [    5.            14.30656934    23.61313869    32.91970803    42.22627737\n",
      "    51.53284672    60.83941606    70.1459854     79.45255474    88.75912409\n",
      "    98.06569343   107.37226277   116.67883212   125.98540146   135.2919708\n",
      "   144.59854015   153.90510949   163.21167883   172.51824818   181.82481752\n",
      "   191.13138686   200.4379562    209.74452555   219.05109489   228.35766423\n",
      "   237.66423358   246.97080292   256.27737226   265.58394161   274.89051095\n",
      "   284.19708029   293.50364964   302.81021898   312.11678832   321.42335766\n",
      "   330.72992701   340.03649635   349.34306569   358.64963504   367.95620438\n",
      "   377.26277372   386.56934307   395.87591241   405.18248175   414.48905109\n",
      "   423.79562044   433.10218978   442.40875912   451.71532847   461.02189781\n",
      "   470.32846715   479.6350365    488.94160584   498.24817518   507.55474453\n",
      "   516.86131387   526.16788321   535.47445255   544.7810219    554.08759124\n",
      "   563.39416058   572.70072993   582.00729927   591.31386861   600.62043796\n",
      "   609.9270073    619.23357664   628.54014599   637.84671533   647.15328467\n",
      "   656.45985401   665.76642336   675.0729927    684.37956204   693.68613139\n",
      "   702.99270073   712.29927007   721.60583942   730.91240876   740.2189781\n",
      "   749.52554745   758.83211679   768.13868613   777.44525547   786.75182482\n",
      "   796.05839416   805.3649635    814.67153285   823.97810219   833.28467153\n",
      "   842.59124088   851.89781022   861.20437956   870.51094891   879.81751825\n",
      "   889.12408759   898.43065693   907.73722628   917.04379562   926.35036496\n",
      "   935.65693431   944.96350365   954.27007299   963.57664234   972.88321168\n",
      "   982.18978102   991.49635036  1000.80291971  1010.10948905  1019.41605839\n",
      "  1028.72262774  1038.02919708  1047.33576642  1056.64233577  1065.94890511\n",
      "  1075.25547445  1084.5620438   1093.86861314  1103.17518248  1112.48175182\n",
      "  1121.78832117  1131.09489051  1140.40145985  1149.7080292   1159.01459854\n",
      "  1168.32116788  1177.62773723  1186.93430657  1196.24087591  1205.54744526\n",
      "  1214.8540146   1224.16058394  1233.46715328  1242.77372263  1252.08029197\n",
      "  1261.38686131  1270.69343066  1280.        ]\n",
      "n:  [ 14.  23.   0.  30.   0.   0.   0.   0.   5.   0.   0.   0.   0.   0.   0.\n",
      "   0.   3.   0.   0.   0.   0.   0.   0.   0.   0.   0.   0.   0.   0.   0.\n",
      "   0.   0.   0.   1.   0.   0.   0.   0.   0.   0.   0.   0.   0.   0.   0.\n",
      "   0.   0.   0.   0.   0.   0.   0.   0.   0.   0.   0.   0.   0.   0.   0.\n",
      "   0.   0.   0.   0.   0.   0.   0.   0.   2.   0.   0.   0.   0.   0.   0.\n",
      "   0.   0.   0.   0.   0.   0.   0.   0.   0.   0.   0.   0.   0.   0.   0.\n",
      "   0.   0.   0.   0.   0.   0.   0.   0.   0.   0.   0.   0.   0.   0.   0.\n",
      "   0.   0.   0.   0.   0.   0.   0.   0.   0.   0.   0.   0.   0.   0.   0.\n",
      "   0.   0.   0.   0.   0.   0.   0.   0.   0.   0.   0.   0.   0.   0.   0.\n",
      "   0.   1.]\n",
      "check these out :  173.17638420246507 40.0\n",
      "and here it is:  164    -0.115489\n",
      "2406    3.464676\n",
      "2444    0.000000\n",
      "2482   -0.173234\n",
      "2523    0.000000\n",
      "2578    0.000000\n",
      "2630   -0.115489\n",
      "2668   -0.115489\n",
      "2714    0.000000\n",
      "2769   -0.173234\n",
      "2821    0.000000\n",
      "2859   -0.115489\n",
      "2903   -0.115489\n",
      "2961   -0.173234\n",
      "3019    0.000000\n",
      "3057    0.230978\n",
      "3137    0.000000\n",
      "3219    0.000000\n",
      "3321   -0.202106\n",
      "3379   -0.115489\n",
      "3481   -0.115489\n",
      "3539   -0.115489\n",
      "3597    0.230978\n",
      "3655   -0.115489\n",
      "3705    0.000000\n",
      "3757   -0.173234\n",
      "3853   -0.115489\n",
      "3955    0.000000\n",
      "4007    0.000000\n",
      "4083    0.000000\n",
      "          ...   \n",
      "5159   -0.115489\n",
      "5217   -0.115489\n",
      "5305    0.000000\n",
      "5363   -0.173234\n",
      "5415   -0.115489\n",
      "5459    0.692935\n",
      "5517   -0.173234\n",
      "5569    0.000000\n",
      "5607    0.000000\n",
      "5651    0.692935\n",
      "5683    0.000000\n",
      "5745    0.230978\n",
      "5794   -0.173234\n",
      "5846    0.692935\n",
      "5890   -0.115489\n",
      "5930   -0.115489\n",
      "5974   -0.115489\n",
      "6020    1.616849\n",
      "6052   -0.115489\n",
      "6096    0.000000\n",
      "6172    0.000000\n",
      "6230    0.000000\n",
      "6282    0.000000\n",
      "6326    0.230978\n",
      "6378   -0.115489\n",
      "6436   -0.173234\n",
      "6494    0.000000\n",
      "6532    0.000000\n",
      "6576   -0.115489\n",
      "6614    3.464676\n",
      "Name: adj_mfc, Length: 79, dtype: float64\n",
      "----------------------------real shit----------------------------------\n"
     ]
    },
    {
     "data": {
      "image/png": "[encoded data removed]",
      "text/plain": [
       "<matplotlib.figure.Figure at 0x7fbc9262a358>"
      ]
     },
     "metadata": {},
     "output_type": "display_data"
    }
   ],
   "source": [
    "%%time\n",
    "\n",
    "for study in studies:\n",
    "    print('\\t\\t===========', study, '===========')\n",
    "    df = hai_result.loc[hai_result['study_accession'] == study]\n",
    "    temp = df.copy()\n",
    "    for strain in strains:\n",
    "        \n",
    "        data = df[df['virus_strain_preferred']==strain]\n",
    "        if data.empty:\n",
    "            continue\n",
    "        day0 = data[data['study_time_collected'] == 0]\n",
    "        plt.figure(figsize=(15,5));\n",
    "#         plt.xticks(np.arange(0, max(hai_result['value_preferred']), step=10) )\n",
    "\n",
    "        (q30,q50,q70) = np.percentile(data['value_preferred'], [30, 50, 70])\n",
    "\n",
    "        #print day 0\n",
    "        n, bins, patches = plt.hist(day0['value_preferred'], orientation='vertical', edgecolor='black', linewidth=1.2, bins='auto')\n",
    "        print('--------------------------', strain, ' at day 0--------------------------')\n",
    "        plt.show();\n",
    "        plt.close()\n",
    "        print('bins: ', bins)\n",
    "        print('n: ', n)\n",
    "        \n",
    "        #apply the adjustment of ([titer]- median[day0]) / standard_deviation[day0] )\n",
    "        std_day0 = day0['value_preferred'].std()\n",
    "        med_day0 = day0['value_preferred'].median()\n",
    "        \n",
    "        temp['adj_mfc'] = day0['value_preferred'].sub(med_day0).div(std_day0)\n",
    "        print('check these out : ', std_day0, med_day0)\n",
    "        a = temp['adj_mfc'].dropna()\n",
    "        print('and here it is: ', a)\n",
    "        print('----------------------------real shit----------------------------------')\n",
    "        plt.figure(figsize=(15,5));\n",
    "\n",
    "        n, bins, patches = plt.hist(a, orientation='vertical', edgecolor='black', linewidth=1.2, bins='auto')\n",
    "        plt.show();\n",
    "        plt.close()\n",
    "        \n",
    "        #print whole time study\n",
    "        plt.figure(figsize=(15,5));\n",
    "        n, bins, patches = plt.hist(data['value_preferred'], orientation='vertical', edgecolor='black', linewidth=1.2, bins='auto')\n",
    "        print('--------------------------', strain, ' whole time course--------------------------')\n",
    "        plt.show();\n",
    "        plt.close()\n",
    "#         print('num of bins: ', len(bins) )\n",
    "#         print('n: ', n)\n",
    "        \n",
    "        print('##############################################################################\\n')\n",
    "        \n",
    "        \n",
    "#         print('values: ', day0['value_preferred'])\n"
   ]
  },
  {
   "cell_type": "markdown",
   "metadata": {},
   "source": [
    "Graph the bin of each virus strain in every study."
   ]
  },
  {
   "cell_type": "code",
   "execution_count": null,
   "metadata": {},
   "outputs": [],
   "source": [
    "%%time\n",
    "#non-test cell.. test cell above\n",
    "studies = sorted(hai_result['study_accession'].unique())\n",
    "strains = sorted(hai_result['virus_strain_preferred'].unique().astype(str))\n",
    "\n",
    "for study in studies:\n",
    "    print('\\t\\t===========', study, '===========')\n",
    "    df = hai_result.loc[hai_result['study_accession'] == study]\n",
    "    for strain in strains:\n",
    "        data = df[df['virus_strain_preferred']==strain]\n",
    "        if data.empty:\n",
    "            continue\n",
    "        day0 = data[data['study_time_collected'] == 0]\n",
    "        plt.figure(figsize=(15,5));\n",
    "#         plt.xticks(np.arange(0, max(hai_result['value_preferred']), step=10) )\n",
    "\n",
    "        n, bins, patches = plt.hist(day0['value_preferred'], orientation='vertical', edgecolor='black', linewidth=1.2, bins=2)\n",
    "        print('--------------------------', strain, '--------------------------')\n",
    "        plt.show();\n",
    "        plt.close()\n",
    "        print('bins: ', bins)\n",
    "        print('n: ', n)\n",
    "#         print('values: ', day0['value_preferred'])\n"
   ]
  },
  {
   "cell_type": "markdown",
   "metadata": {},
   "source": [
    "%%time\n",
    "\n",
    "studies = sorted(hai_result['study_accession'].unique())\n",
    "for study in studies:\n",
    "    print('\\t\\t===========', study, '===========')\n",
    "    df = hai_result.loc[hai_result['study_accession'] == study]\n",
    "    subjects = sorted(df['subject_accession'].unique())\n",
    "    for subject in subjects:\n",
    "        \n",
    "        sub_data = df[df['subject_accession']==subject]\n",
    "        strains = sorted(sub_data['virus_strain_preferred'].unique().astype(str))\n",
    "        print('\\t\\t----------', subject, '----------')\n",
    "        for strain in strains:\n",
    "            if strain != 'None':\n",
    "                data = sub_data[sub_data['virus_strain_preferred']==strain]\n",
    "                data.plot.scatter(x='study_time_collected',y='value_preferred', c= 'DarkBlue', title =strain)\n",
    "                plt.show();\n",
    "                plt.close()\n",
    "        print('--------------------------------------------------------')\n",
    "\n"
   ]
  },
  {
   "cell_type": "markdown",
   "metadata": {
    "collapsed": true
   },
   "source": [
    "%%time\n",
    "use this one for inspiration\n",
    "studies = sorted(hai_result['study_accession'].unique())\n",
    "for study in studies:\n",
    "    print('\\t\\t===========', study, '===========')\n",
    "    df = hai_result.loc[hai_result['study_accession'] == study]\n",
    "    subjects = sorted(df['subject_accession'].unique())\n",
    "    for subject in subjects:\n",
    "        \n",
    "        sub_data = df[df['subject_accession']==subject]\n",
    "        strains = sorted(sub_data['virus_strain_preferred'].unique().astype(str))\n",
    "        print('\\t\\t----------', subject, '----------')\n",
    "        for strain in strains:\n",
    "            if strain != 'None':\n",
    "                data = sub_data[sub_data['virus_strain_preferred']==strain]\n",
    "                data.plot.scatter(x='study_time_collected',y='value_preferred', c= 'DarkBlue', title =strain)\n",
    "                plt.show();\n",
    "                plt.close()\n",
    "        print('--------------------------------------------------------')"
   ]
  },
  {
   "cell_type": "markdown",
   "metadata": {},
   "source": [
    "'''\n",
    "temp = pd\n",
    "for i in hai_result:\n",
    "    iterate thru hai result\n",
    "    check if the day is 0 \n",
    "        if so change the list of values\n",
    "        if not, add the values to the list\n",
    "    get geometric mean of the list \n",
    "    add that to the studies page\n",
    "    litlit\n",
    "'''\n",
    "studies = sorted(hai_result['study_accession'].unique())\n",
    "means = []\n",
    "\n",
    "for study in studies:\n",
    "    print('\\t\\t===========', study, '===========')\n",
    "    df = hai_result.loc[hai_result['study_accession'] == study]\n",
    "    subjects = sorted(df['subject_accession'].unique())\n",
    "    for subject in subjects:\n",
    "#         print(subject['study_accession'])\n",
    "        temp = df[df['subject_accession']]"
   ]
  },
  {
   "cell_type": "code",
   "execution_count": null,
   "metadata": {
    "collapsed": true
   },
   "outputs": [],
   "source": [
    "\n",
    "\n"
   ]
  }
 ],
 "metadata": {
  "kernelspec": {
   "display_name": "Python 3",
   "language": "python",
   "name": "python3"
  },
  "language_info": {
   "codemirror_mode": {
    "name": "ipython",
    "version": 3
   },
   "file_extension": ".py",
   "mimetype": "text/x-python",
   "name": "python",
   "nbconvert_exporter": "python",
   "pygments_lexer": "ipython3",
   "version": "3.6.1"
  }
 },
 "nbformat": 4,
 "nbformat_minor": 2
}
