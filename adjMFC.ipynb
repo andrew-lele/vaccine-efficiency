{
 "cells": [
  {
   "cell_type": "markdown",
   "metadata": {},
   "source": []
  },
  {
   "cell_type": "code",
   "execution_count": 28,
   "metadata": {
    "collapsed": true
   },
   "outputs": [],
   "source": [
    "import os\n",
    "import pandas as pd\n",
    "import seaborn as sns\n",
    "import mysql.connector\n",
    "from sqlalchemy import create_engine\n",
    "from sqlalchemy import (Column, DateTime, Integer, Numeric, Float, String, Text)\n",
    "\n",
    "%matplotlib inline\n",
    "import matplotlib.pyplot as plt\n",
    "import numpy as np\n",
    "from scipy.stats.mstats import gmean\n",
    "from scipy import stats"
   ]
  },
  {
   "cell_type": "code",
   "execution_count": 2,
   "metadata": {},
   "outputs": [
    {
     "data": {
      "text/plain": [
       "'1.12.1'"
      ]
     },
     "execution_count": 2,
     "metadata": {},
     "output_type": "execute_result"
    }
   ],
   "source": [
    "np.__version__"
   ]
  },
  {
   "cell_type": "code",
   "execution_count": 3,
   "metadata": {
    "collapsed": true
   },
   "outputs": [],
   "source": [
    "immport_user = os.getenv(\"IMMPORT_USER\",\"USER\")\n",
    "immport_password = os.getenv(\"IMMPORT_PASSWORD\",\"PASSWORD\")\n",
    "immport_database = os.getenv(\"IMMPORT_DATABASE\",\"DR26\")\n",
    "immport_host = os.getenv(\"IMMPORT_HOST\",\"127.0.0.1\")"
   ]
  },
  {
   "cell_type": "code",
   "execution_count": 4,
   "metadata": {
    "collapsed": true
   },
   "outputs": [],
   "source": [
    "conn1 = f\"mysql+mysqlconnector://{immport_user}:{immport_password}@{immport_host}:3306/{immport_database}\"\n",
    "immportConn = create_engine(conn1, connect_args={'connect_timeout': 120 }, echo=False)\n"
   ]
  },
  {
   "cell_type": "code",
   "execution_count": 5,
   "metadata": {},
   "outputs": [],
   "source": [
    "sql = f'''\n",
    "SELECT va.subject_accession, va.study_accession, va.study_time_collected,  va.value_preferred, va.virus_strain_preferred\n",
    "FROM vaccine_analysis va\n",
    "ORDER BY va.subject_accession, va.study_accession, va.virus_strain_preferred, va.study_time_collected\n",
    "'''\n",
    "\n",
    "hai_result = pd.read_sql(sql, immportConn)\n",
    "\n",
    "\n",
    "# print(hai_result['virus_strain_preferred'], hai_result['subject_accession'])\n"
   ]
  },
  {
   "cell_type": "code",
   "execution_count": 6,
   "metadata": {
    "collapsed": true
   },
   "outputs": [],
   "source": [
    "def outliers(data):\n",
    "    (q30,q50,q70) = np.percentile(data, [30, 50, 70])\n",
    "    iqr = q70 - q30\n",
    "    mild_upper = (iqr * 1.5) + q70\n",
    "    mild_lower = q25 - (iqr * 1.5)\n",
    "    extreme_upper = (iqr * 3.0) + q70\n",
    "    extreme_lower = q30 - (iqr * 3.0) \n",
    "    return {\n",
    "        \"mild_lower\": mild_lower,\n",
    "        \"mild_upper\": mild_upper,\n",
    "        \"extreme_lower\": extreme_lower,\n",
    "        \"extreme_upper\": extreme_upper\n",
    "    }\n"
   ]
  },
  {
   "cell_type": "code",
   "execution_count": 7,
   "metadata": {},
   "outputs": [
    {
     "data": {
      "text/plain": [
       "array(['SDY269', 'SDY61', 'SDY112', 'SDY311', 'SDY312', 'SDY315', 'SDY478',\n",
       "       'SDY113', 'SDY305', 'SDY472', 'SDY198', 'SDY200', 'SDY196',\n",
       "       'SDY197', 'SDY199', 'SDY201', 'SDY296', 'SDY301', 'SDY212',\n",
       "       'SDY314', 'SDY369', 'SDY372', 'SDY376', 'SDY645', 'SDY406', 'SDY515'], dtype=object)"
      ]
     },
     "execution_count": 7,
     "metadata": {},
     "output_type": "execute_result"
    }
   ],
   "source": [
    "hai_result['study_accession'].unique()"
   ]
  },
  {
   "cell_type": "code",
   "execution_count": 8,
   "metadata": {},
   "outputs": [
    {
     "data": {
      "application/javascript": [
       "IPython.OutputArea.prototype._should_scroll = function(lines) {\n",
       "    return false;\n",
       "//     return true;\n",
       "\n",
       "}"
      ],
      "text/plain": [
       "<IPython.core.display.Javascript object>"
      ]
     },
     "metadata": {},
     "output_type": "display_data"
    }
   ],
   "source": [
    "%%javascript\n",
    "IPython.OutputArea.prototype._should_scroll = function(lines) {\n",
    "    return false;\n",
    "//     return true;\n",
    "\n",
    "}"
   ]
  },
  {
   "cell_type": "code",
   "execution_count": 9,
   "metadata": {},
   "outputs": [
    {
     "data": {
      "image/png": "[encoded data removed]",
      "text/plain": [
       "<matplotlib.figure.Figure at 0x7f00c763d8d0>"
      ]
     },
     "metadata": {},
     "output_type": "display_data"
    }
   ],
   "source": [
    "studies = sorted(hai_result['study_accession'].unique())\n",
    "plt.figure();\n",
    "hai_result['study_time_collected'].plot.hist(title='study accession histogram', rot = 0)\n",
    "plt.show();\n",
    "plt.close()"
   ]
  },
  {
   "cell_type": "code",
   "execution_count": 10,
   "metadata": {},
   "outputs": [
    {
     "name": "stdout",
     "output_type": "stream",
     "text": [
      "['SDY112', 'SDY113', 'SDY196', 'SDY197', 'SDY198', 'SDY199', 'SDY200', 'SDY201', 'SDY212', 'SDY269', 'SDY296', 'SDY301', 'SDY305', 'SDY311', 'SDY312', 'SDY314', 'SDY315', 'SDY369', 'SDY372', 'SDY376', 'SDY406', 'SDY472', 'SDY478', 'SDY515', 'SDY61', 'SDY645']\n",
      "299\n",
      "27\n"
     ]
    }
   ],
   "source": [
    "print((sorted(hai_result['study_accession'].unique())) )\n",
    "print(len(sorted(hai_result['subject_accession'].unique())) )\n",
    "print(len(sorted(hai_result['study_time_collected'].unique())) )"
   ]
  },
  {
   "cell_type": "code",
   "execution_count": 11,
   "metadata": {},
   "outputs": [
    {
     "data": {
      "image/png": "[encoded data removed]",
      "text/plain": [
       "<matplotlib.figure.Figure at 0x7f00c76636a0>"
      ]
     },
     "metadata": {},
     "output_type": "display_data"
    }
   ],
   "source": [
    "studies = sorted(hai_result['study_accession'].unique())\n",
    "\n",
    "plt.figure();\n",
    "histo = hai_result['value_preferred'].plot.hist(title='value_preferred')\n",
    "plt.show();\n",
    "plt.close()"
   ]
  },
  {
   "cell_type": "code",
   "execution_count": 12,
   "metadata": {},
   "outputs": [
    {
     "data": {
      "image/png": "[encoded data removed]",
      "text/plain": [
       "<matplotlib.figure.Figure at 0x7f00c763dcf8>"
      ]
     },
     "metadata": {},
     "output_type": "display_data"
    }
   ],
   "source": [
    "plt.hist(hai_result['value_preferred'], normed = True)\n",
    "plt.show()\n",
    "plt.close()\n"
   ]
  },
  {
   "cell_type": "code",
   "execution_count": 13,
   "metadata": {},
   "outputs": [
    {
     "name": "stdout",
     "output_type": "stream",
     "text": [
      "CPU times: user 14.9 s, sys: 56 ms, total: 14.9 s\n",
      "Wall time: 14.9 s\n"
     ]
    }
   ],
   "source": [
    "%%time\n",
    "studies = sorted(hai_result['study_accession'].unique())\n",
    "day0 = pd.DataFrame(index=hai_result.index, columns=hai_result.columns)\n",
    "for study in studies:\n",
    "#     print('\\t\\t===========', study, '===========')\n",
    "    df = hai_result.loc[hai_result['study_accession'] == study]\n",
    "    subjects = sorted(df['subject_accession'].unique())\n",
    "    for subject in subjects:\n",
    "        \n",
    "        sub_data = df[df['subject_accession']==subject]\n",
    "        strains = sorted(sub_data['virus_strain_preferred'].unique().astype(str))\n",
    "#         print('\\t\\t----------', subject, '----------')\n",
    "        for strain in strains:\n",
    "            if strain != 'None':\n",
    "                data = sub_data[sub_data['virus_strain_preferred']==strain]\n",
    "                hold = data[data['study_time_collected']==0]\n",
    "                \n",
    "                # print(day0)\n"
   ]
  },
  {
   "cell_type": "code",
   "execution_count": 14,
   "metadata": {
    "collapsed": true
   },
   "outputs": [],
   "source": [
    "day0 = hai_result.loc[hai_result['virus_strain_preferred'] == 0]"
   ]
  },
  {
   "cell_type": "code",
   "execution_count": 15,
   "metadata": {},
   "outputs": [
    {
     "data": {
      "text/plain": [
       "['A/California/7/2009',\n",
       " 'A/Victoria/361/2011',\n",
       " 'B/Brisbane/60/2008',\n",
       " 'B/Massachusetts/02/2012']"
      ]
     },
     "execution_count": 15,
     "metadata": {},
     "output_type": "execute_result"
    }
   ],
   "source": [
    "strains"
   ]
  },
  {
   "cell_type": "code",
   "execution_count": 16,
   "metadata": {
    "collapsed": true
   },
   "outputs": [],
   "source": [
    "ran_study = hai_result.sample(frac=0.05)\n",
    "import random\n"
   ]
  },
  {
   "cell_type": "code",
   "execution_count": 17,
   "metadata": {},
   "outputs": [
    {
     "data": {
      "text/plain": [
       "array(['SDY269', 'SDY312', 'SDY315', 'SDY515', 'SDY199', 'SDY311', 'SDY301'], \n",
       "      dtype='<U6')"
      ]
     },
     "execution_count": 17,
     "metadata": {},
     "output_type": "execute_result"
    }
   ],
   "source": [
    "studies = sorted(hai_result['study_accession'].unique())\n",
    "#sample 30% of the studies\n",
    "samples = int( float(len(studies)) * 0.3 )\n",
    "studies = np.random.choice(studies, samples)\n",
    "strains = sorted(hai_result['virus_strain_preferred'].unique().astype(str))\n",
    "\n",
    "studies"
   ]
  },
  {
   "cell_type": "code",
   "execution_count": 30,
   "metadata": {},
   "outputs": [
    {
     "name": "stdout",
     "output_type": "stream",
     "text": [
      "\t\t=========== SDY269 ===========\n"
     ]
    },
    {
     "ename": "TypeError",
     "evalue": "unsupported operand type(s) for /: 'str' and 'int'",
     "output_type": "error",
     "traceback": [
      "\u001b[0;31m---------------------------------------------------------------------------\u001b[0m",
      "\u001b[0;31mTypeError\u001b[0m                                 Traceback (most recent call last)",
      "\u001b[0;32m<ipython-input-30-47acb25894f5>\u001b[0m in \u001b[0;36m<module>\u001b[0;34m()\u001b[0m\n\u001b[0;32m----> 1\u001b[0;31m \u001b[0mget_ipython\u001b[0m\u001b[0;34m(\u001b[0m\u001b[0;34m)\u001b[0m\u001b[0;34m.\u001b[0m\u001b[0mrun_cell_magic\u001b[0m\u001b[0;34m(\u001b[0m\u001b[0;34m'time'\u001b[0m\u001b[0;34m,\u001b[0m \u001b[0;34m''\u001b[0m\u001b[0;34m,\u001b[0m \u001b[0;34m\"\\nfor study in studies:\\n    print('\\\\t\\\\t===========', study, '===========')\\n    df = hai_result.loc[hai_result['study_accession'] == study]\\n    temp = df.copy()\\n    for strain in strains:\\n        \\n        data = df[df['virus_strain_preferred']==strain]\\n        data = data[data['value_preferred'](np.abs(stats.zscore(df)) < 3).all(axis=1)]\\n        if data.empty:\\n            continue\\n        \\n\\n#         print('num of bins: ', len(bins) )\\n#         print('n: ', n)\\n        #print whole htings\\n        plt.figure(figsize=(15,5));\\n        plt.hist(data['value_preferred'], orientation='vertical', edgecolor='black', linewidth=1.2, bins='auto')\\n        print('--------------------------', strain, ' whole time course--------------------------')\\n        plt.show();\\n        plt.close()\\n        \\n        #print the binning\\n        plt.figure(figsize=(15,5));\\n        plt.hist(data['value_preferred'], orientation='vertical', edgecolor='black', linewidth=1.2, bins=2)\\n        print('--------------------------', strain, ' binning--------------------------')\\n        plt.show();\\n        plt.close()\\n        print(bins)\\n        \\n        #seperate data based on bins \\n        day0 = data[data['study_time_collected'] == 0]\\n        n, bins, patches = plt.hist(day0['value_preferred'], orientation='vertical', edgecolor='black', linewidth=1.2, bins=2)\\n        plt.close()\\n        lower_bin = df[df['value_preferred'] < bins[1]]\\n        upper_bin = df[df['value_preferred'] >= bins[1]]\\n    \\n        all_bins = [lower_bin, upper_bin]\\n        for bin_oi in all_bins:\\n            #apply the adjustment of ([titer]- median[data]) / standard_deviation[data] )\\n            std_data = bin_oi['value_preferred'].std()\\n            med_data = bin_oi['value_preferred'].median()\\n\\n            temp['adj_mfc'] = bin_oi['value_preferred'].sub(med_data).div(std_data)\\n    #         print('check these out : ', std_day0, med_day0)\\n            b = temp['adj_mfc'].dropna()\\n    #         print('and here it is: ', b)\\n            print('----------------------------bin----------------------------------')\\n            plt.figure(figsize=(15,5));\\n\\n            plt.hist(b, orientation='vertical', edgecolor='black', linewidth=1.2, bins='auto')\\n            plt.show();\\n            plt.close()\\n        print('##############################################################################\\\\n')\\n        \\n        \\n#         print('values: ', day0['value_preferred'])\"\u001b[0m\u001b[0;34m)\u001b[0m\u001b[0;34m\u001b[0m\u001b[0m\n\u001b[0m",
      "\u001b[0;32m/home/ale/anaconda3/lib/python3.6/site-packages/IPython/core/interactiveshell.py\u001b[0m in \u001b[0;36mrun_cell_magic\u001b[0;34m(self, magic_name, line, cell)\u001b[0m\n\u001b[1;32m   2113\u001b[0m             \u001b[0mmagic_arg_s\u001b[0m \u001b[0;34m=\u001b[0m \u001b[0mself\u001b[0m\u001b[0;34m.\u001b[0m\u001b[0mvar_expand\u001b[0m\u001b[0;34m(\u001b[0m\u001b[0mline\u001b[0m\u001b[0;34m,\u001b[0m \u001b[0mstack_depth\u001b[0m\u001b[0;34m)\u001b[0m\u001b[0;34m\u001b[0m\u001b[0m\n\u001b[1;32m   2114\u001b[0m             \u001b[0;32mwith\u001b[0m \u001b[0mself\u001b[0m\u001b[0;34m.\u001b[0m\u001b[0mbuiltin_trap\u001b[0m\u001b[0;34m:\u001b[0m\u001b[0;34m\u001b[0m\u001b[0m\n\u001b[0;32m-> 2115\u001b[0;31m                 \u001b[0mresult\u001b[0m \u001b[0;34m=\u001b[0m \u001b[0mfn\u001b[0m\u001b[0;34m(\u001b[0m\u001b[0mmagic_arg_s\u001b[0m\u001b[0;34m,\u001b[0m \u001b[0mcell\u001b[0m\u001b[0;34m)\u001b[0m\u001b[0;34m\u001b[0m\u001b[0m\n\u001b[0m\u001b[1;32m   2116\u001b[0m             \u001b[0;32mreturn\u001b[0m \u001b[0mresult\u001b[0m\u001b[0;34m\u001b[0m\u001b[0m\n\u001b[1;32m   2117\u001b[0m \u001b[0;34m\u001b[0m\u001b[0m\n",
      "\u001b[0;32m<decorator-gen-59>\u001b[0m in \u001b[0;36mtime\u001b[0;34m(self, line, cell, local_ns)\u001b[0m\n",
      "\u001b[0;32m/home/ale/anaconda3/lib/python3.6/site-packages/IPython/core/magic.py\u001b[0m in \u001b[0;36m<lambda>\u001b[0;34m(f, *a, **k)\u001b[0m\n\u001b[1;32m    186\u001b[0m     \u001b[0;31m# but it's overkill for just that one bit of state.\u001b[0m\u001b[0;34m\u001b[0m\u001b[0;34m\u001b[0m\u001b[0m\n\u001b[1;32m    187\u001b[0m     \u001b[0;32mdef\u001b[0m \u001b[0mmagic_deco\u001b[0m\u001b[0;34m(\u001b[0m\u001b[0marg\u001b[0m\u001b[0;34m)\u001b[0m\u001b[0;34m:\u001b[0m\u001b[0;34m\u001b[0m\u001b[0m\n\u001b[0;32m--> 188\u001b[0;31m         \u001b[0mcall\u001b[0m \u001b[0;34m=\u001b[0m \u001b[0;32mlambda\u001b[0m \u001b[0mf\u001b[0m\u001b[0;34m,\u001b[0m \u001b[0;34m*\u001b[0m\u001b[0ma\u001b[0m\u001b[0;34m,\u001b[0m \u001b[0;34m**\u001b[0m\u001b[0mk\u001b[0m\u001b[0;34m:\u001b[0m \u001b[0mf\u001b[0m\u001b[0;34m(\u001b[0m\u001b[0;34m*\u001b[0m\u001b[0ma\u001b[0m\u001b[0;34m,\u001b[0m \u001b[0;34m**\u001b[0m\u001b[0mk\u001b[0m\u001b[0;34m)\u001b[0m\u001b[0;34m\u001b[0m\u001b[0m\n\u001b[0m\u001b[1;32m    189\u001b[0m \u001b[0;34m\u001b[0m\u001b[0m\n\u001b[1;32m    190\u001b[0m         \u001b[0;32mif\u001b[0m \u001b[0mcallable\u001b[0m\u001b[0;34m(\u001b[0m\u001b[0marg\u001b[0m\u001b[0;34m)\u001b[0m\u001b[0;34m:\u001b[0m\u001b[0;34m\u001b[0m\u001b[0m\n",
      "\u001b[0;32m/home/ale/anaconda3/lib/python3.6/site-packages/IPython/core/magics/execution.py\u001b[0m in \u001b[0;36mtime\u001b[0;34m(self, line, cell, local_ns)\u001b[0m\n\u001b[1;32m   1183\u001b[0m         \u001b[0;32melse\u001b[0m\u001b[0;34m:\u001b[0m\u001b[0;34m\u001b[0m\u001b[0m\n\u001b[1;32m   1184\u001b[0m             \u001b[0mst\u001b[0m \u001b[0;34m=\u001b[0m \u001b[0mclock2\u001b[0m\u001b[0;34m(\u001b[0m\u001b[0;34m)\u001b[0m\u001b[0;34m\u001b[0m\u001b[0m\n\u001b[0;32m-> 1185\u001b[0;31m             \u001b[0mexec\u001b[0m\u001b[0;34m(\u001b[0m\u001b[0mcode\u001b[0m\u001b[0;34m,\u001b[0m \u001b[0mglob\u001b[0m\u001b[0;34m,\u001b[0m \u001b[0mlocal_ns\u001b[0m\u001b[0;34m)\u001b[0m\u001b[0;34m\u001b[0m\u001b[0m\n\u001b[0m\u001b[1;32m   1186\u001b[0m             \u001b[0mend\u001b[0m \u001b[0;34m=\u001b[0m \u001b[0mclock2\u001b[0m\u001b[0;34m(\u001b[0m\u001b[0;34m)\u001b[0m\u001b[0;34m\u001b[0m\u001b[0m\n\u001b[1;32m   1187\u001b[0m             \u001b[0mout\u001b[0m \u001b[0;34m=\u001b[0m \u001b[0;32mNone\u001b[0m\u001b[0;34m\u001b[0m\u001b[0m\n",
      "\u001b[0;32m<timed exec>\u001b[0m in \u001b[0;36m<module>\u001b[0;34m()\u001b[0m\n",
      "\u001b[0;32m/home/ale/anaconda3/lib/python3.6/site-packages/scipy/stats/stats.py\u001b[0m in \u001b[0;36mzscore\u001b[0;34m(a, axis, ddof)\u001b[0m\n\u001b[1;32m   2239\u001b[0m     \"\"\"\n\u001b[1;32m   2240\u001b[0m     \u001b[0ma\u001b[0m \u001b[0;34m=\u001b[0m \u001b[0mnp\u001b[0m\u001b[0;34m.\u001b[0m\u001b[0masanyarray\u001b[0m\u001b[0;34m(\u001b[0m\u001b[0ma\u001b[0m\u001b[0;34m)\u001b[0m\u001b[0;34m\u001b[0m\u001b[0m\n\u001b[0;32m-> 2241\u001b[0;31m     \u001b[0mmns\u001b[0m \u001b[0;34m=\u001b[0m \u001b[0ma\u001b[0m\u001b[0;34m.\u001b[0m\u001b[0mmean\u001b[0m\u001b[0;34m(\u001b[0m\u001b[0maxis\u001b[0m\u001b[0;34m=\u001b[0m\u001b[0maxis\u001b[0m\u001b[0;34m)\u001b[0m\u001b[0;34m\u001b[0m\u001b[0m\n\u001b[0m\u001b[1;32m   2242\u001b[0m     \u001b[0msstd\u001b[0m \u001b[0;34m=\u001b[0m \u001b[0ma\u001b[0m\u001b[0;34m.\u001b[0m\u001b[0mstd\u001b[0m\u001b[0;34m(\u001b[0m\u001b[0maxis\u001b[0m\u001b[0;34m=\u001b[0m\u001b[0maxis\u001b[0m\u001b[0;34m,\u001b[0m \u001b[0mddof\u001b[0m\u001b[0;34m=\u001b[0m\u001b[0mddof\u001b[0m\u001b[0;34m)\u001b[0m\u001b[0;34m\u001b[0m\u001b[0m\n\u001b[1;32m   2243\u001b[0m     \u001b[0;32mif\u001b[0m \u001b[0maxis\u001b[0m \u001b[0;32mand\u001b[0m \u001b[0mmns\u001b[0m\u001b[0;34m.\u001b[0m\u001b[0mndim\u001b[0m \u001b[0;34m<\u001b[0m \u001b[0ma\u001b[0m\u001b[0;34m.\u001b[0m\u001b[0mndim\u001b[0m\u001b[0;34m:\u001b[0m\u001b[0;34m\u001b[0m\u001b[0m\n",
      "\u001b[0;32m/home/ale/anaconda3/lib/python3.6/site-packages/numpy/core/_methods.py\u001b[0m in \u001b[0;36m_mean\u001b[0;34m(a, axis, dtype, out, keepdims)\u001b[0m\n\u001b[1;32m     71\u001b[0m     \u001b[0;32mif\u001b[0m \u001b[0misinstance\u001b[0m\u001b[0;34m(\u001b[0m\u001b[0mret\u001b[0m\u001b[0;34m,\u001b[0m \u001b[0mmu\u001b[0m\u001b[0;34m.\u001b[0m\u001b[0mndarray\u001b[0m\u001b[0;34m)\u001b[0m\u001b[0;34m:\u001b[0m\u001b[0;34m\u001b[0m\u001b[0m\n\u001b[1;32m     72\u001b[0m         ret = um.true_divide(\n\u001b[0;32m---> 73\u001b[0;31m                 ret, rcount, out=ret, casting='unsafe', subok=False)\n\u001b[0m\u001b[1;32m     74\u001b[0m         \u001b[0;32mif\u001b[0m \u001b[0mis_float16_result\u001b[0m \u001b[0;32mand\u001b[0m \u001b[0mout\u001b[0m \u001b[0;32mis\u001b[0m \u001b[0;32mNone\u001b[0m\u001b[0;34m:\u001b[0m\u001b[0;34m\u001b[0m\u001b[0m\n\u001b[1;32m     75\u001b[0m             \u001b[0mret\u001b[0m \u001b[0;34m=\u001b[0m \u001b[0marr\u001b[0m\u001b[0;34m.\u001b[0m\u001b[0mdtype\u001b[0m\u001b[0;34m.\u001b[0m\u001b[0mtype\u001b[0m\u001b[0;34m(\u001b[0m\u001b[0mret\u001b[0m\u001b[0;34m)\u001b[0m\u001b[0;34m\u001b[0m\u001b[0m\n",
      "\u001b[0;31mTypeError\u001b[0m: unsupported operand type(s) for /: 'str' and 'int'"
     ]
    }
   ],
   "source": [
    "%%time\n",
    "\n",
    "for study in studies:\n",
    "    print('\\t\\t===========', study, '===========')\n",
    "    df = hai_result.loc[hai_result['study_accession'] == study]\n",
    "    temp = df.copy()\n",
    "    for strain in strains:\n",
    "        \n",
    "        data = df[df['virus_strain_preferred']==strain]\n",
    "        data = data[data['value_preferred'](np.abs(stats.zscore(df)) < 3).all(axis=1)]\n",
    "        if data.empty:\n",
    "            continue\n",
    "        \n",
    "\n",
    "#         print('num of bins: ', len(bins) )\n",
    "#         print('n: ', n)\n",
    "        #print whole htings\n",
    "        plt.figure(figsize=(15,5));\n",
    "        plt.hist(data['value_preferred'], orientation='vertical', edgecolor='black', linewidth=1.2, bins='auto')\n",
    "        print('--------------------------', strain, ' whole time course--------------------------')\n",
    "        plt.show();\n",
    "        plt.close()\n",
    "        \n",
    "        #print the binning\n",
    "        plt.figure(figsize=(15,5));\n",
    "        plt.hist(data['value_preferred'], orientation='vertical', edgecolor='black', linewidth=1.2, bins=2)\n",
    "        print('--------------------------', strain, ' binning--------------------------')\n",
    "        plt.show();\n",
    "        plt.close()\n",
    "        print(bins)\n",
    "        \n",
    "        #seperate data based on bins \n",
    "        day0 = data[data['study_time_collected'] == 0]\n",
    "        n, bins, patches = plt.hist(day0['value_preferred'], orientation='vertical', edgecolor='black', linewidth=1.2, bins=2)\n",
    "        plt.close()\n",
    "        lower_bin = df[df['value_preferred'] < bins[1]]\n",
    "        upper_bin = df[df['value_preferred'] >= bins[1]]\n",
    "    \n",
    "        all_bins = [lower_bin, upper_bin]\n",
    "        for bin_oi in all_bins:\n",
    "            #apply the adjustment of ([titer]- median[data]) / standard_deviation[data] )\n",
    "            std_data = bin_oi['value_preferred'].std()\n",
    "            med_data = bin_oi['value_preferred'].median()\n",
    "\n",
    "            temp['adj_mfc'] = bin_oi['value_preferred'].sub(med_data).div(std_data)\n",
    "    #         print('check these out : ', std_day0, med_day0)\n",
    "            b = temp['adj_mfc'].dropna()\n",
    "    #         print('and here it is: ', b)\n",
    "            print('----------------------------bin----------------------------------')\n",
    "            plt.figure(figsize=(15,5));\n",
    "\n",
    "            plt.hist(b, orientation='vertical', edgecolor='black', linewidth=1.2, bins='auto')\n",
    "            plt.show();\n",
    "            plt.close()\n",
    "        print('##############################################################################\\n')\n",
    "        \n",
    "        \n",
    "#         print('values: ', day0['value_preferred'])\n"
   ]
  },
  {
   "cell_type": "code",
   "execution_count": null,
   "metadata": {},
   "outputs": [],
   "source": [
    "%%time\n",
    "\n",
    "for study in studies:\n",
    "    print('\\t\\t===========', study, '===========')\n",
    "    df = hai_result.loc[hai_result['study_accession'] == study]\n",
    "    temp = df.copy()\n",
    "    for strain in strains:\n",
    "        \n",
    "        data = df[df['virus_strain_preferred']==strain]\n",
    "        if data.empty:\n",
    "            continue\n",
    "        day0 = data[data['study_time_collected'] == 0]\n",
    "        plt.figure(figsize=(15,5));\n",
    "#         plt.xticks(np.arange(0, max(hai_result['value_preferred']), step=10) )\n",
    "\n",
    "        (q30,q50,q70) = np.percentile(data['value_preferred'], [30, 50, 70])\n",
    "\n",
    "        #print day 0\n",
    "        n, bins, patches = plt.hist(day0['value_preferred'], orientation='vertical', edgecolor='black', linewidth=1.2, bins=2)\n",
    "        print('--------------------------', strain, ' at day 0--------------------------')\n",
    "        plt.show();\n",
    "        plt.close()\n",
    "        print('bins: ', bins)\n",
    "        print('n: ', n)\n",
    "    ############################\n",
    "        \n",
    "        #apply the adjustment of ([titer]- median[day0]) / standard_deviation[day0] )\n",
    "        std_day0 = day0['value_preferred'].std()\n",
    "        med_day0 = day0['value_preferred'].median()\n",
    "        \n",
    "        temp['adj_mfc'] = day0['value_preferred'].sub(med_day0).div(std_day0)\n",
    "        print('check these out : ', std_day0, med_day0)\n",
    "        a = temp['adj_mfc'].dropna()\n",
    "#         print('and here it is: ', a)\n",
    "        print('----------------------------real stuff----------------------------------')\n",
    "        plt.figure(figsize=(15,5));\n",
    "\n",
    "        n, bins, patches = plt.hist(a, orientation='vertical', edgecolor='black', linewidth=1.2, bins='auto')\n",
    "        plt.show();\n",
    "        plt.close()\n",
    "    ############################\n",
    "        #print whole time study\n",
    "        plt.figure(figsize=(15,5));\n",
    "        n, bins, patches = plt.hist(data['value_preferred'], orientation='vertical', edgecolor='black', linewidth=1.2, bins=2)\n",
    "        print('--------------------------', strain, ' whole time course--------------------------')\n",
    "        plt.show();\n",
    "        plt.close()\n",
    "#         print('num of bins: ', len(bins) )\n",
    "#         print('n: ', n)\n",
    "        \n",
    "\n",
    "        #seperate data based on bins \n",
    "        lower_bin = df[df['value_preferred'] < bins[1]]\n",
    "        upper_bin = df[df['value_preferred'] >= bins[1]]\n",
    "    \n",
    "        all_bins = [lower_bin, upper_bin]\n",
    "        for bin_oi in all_bins:\n",
    "            #apply the adjustment of ([titer]- median[data]) / standard_deviation[data] )\n",
    "            std_data = bin_oi['value_preferred'].std()\n",
    "            med_data = bin_oi['value_preferred'].median()\n",
    "\n",
    "            temp['adj_mfc'] = bin_oi['value_preferred'].sub(med_data).div(std_data)\n",
    "    #         print('check these out : ', std_day0, med_day0)\n",
    "            b = temp['adj_mfc'].dropna()\n",
    "    #         print('and here it is: ', b)\n",
    "            print('----------------------------real stuff----------------------------------')\n",
    "            plt.figure(figsize=(15,5));\n",
    "\n",
    "            n, bins, patches = plt.hist(b, orientation='vertical', edgecolor='black', linewidth=1.2, bins='auto')\n",
    "            plt.show();\n",
    "            plt.close()\n",
    "        print('##############################################################################\\n')\n",
    "        \n",
    "        \n",
    "#         print('values: ', day0['value_preferred'])\n"
   ]
  },
  {
   "cell_type": "markdown",
   "metadata": {},
   "source": [
    "Graph the bin of each virus strain in every study."
   ]
  },
  {
   "cell_type": "code",
   "execution_count": null,
   "metadata": {
    "collapsed": true
   },
   "outputs": [],
   "source": [
    "%%time\n",
    "#non-test cell.. test cell above\n",
    "studies = sorted(hai_result['study_accession'].unique())\n",
    "strains = sorted(hai_result['virus_strain_preferred'].unique().astype(str))\n",
    "\n",
    "for study in studies:\n",
    "    print('\\t\\t===========', study, '===========')\n",
    "    df = hai_result.loc[hai_result['study_accession'] == study]\n",
    "    for strain in strains:\n",
    "        data = df[df['virus_strain_preferred']==strain]\n",
    "        if data.empty:\n",
    "            continue\n",
    "        day0 = data[data['study_time_collected'] == 0]\n",
    "        plt.figure(figsize=(15,5));\n",
    "#         plt.xticks(np.arange(0, max(hai_result['value_preferred']), step=10) )\n",
    "\n",
    "        n, bins, patches = plt.hist(day0['value_preferred'], orientation='vertical', edgecolor='black', linewidth=1.2, bins=2)\n",
    "        print('--------------------------', strain, '--------------------------')\n",
    "        plt.show();\n",
    "        plt.close()\n",
    "        print('bins: ', bins)\n",
    "        print('n: ', n)\n",
    "#         print('values: ', day0['value_preferred'])\n"
   ]
  },
  {
   "cell_type": "markdown",
   "metadata": {},
   "source": [
    "%%time\n",
    "\n",
    "studies = sorted(hai_result['study_accession'].unique())\n",
    "for study in studies:\n",
    "    print('\\t\\t===========', study, '===========')\n",
    "    df = hai_result.loc[hai_result['study_accession'] == study]\n",
    "    subjects = sorted(df['subject_accession'].unique())\n",
    "    for subject in subjects:\n",
    "        \n",
    "        sub_data = df[df['subject_accession']==subject]\n",
    "        strains = sorted(sub_data['virus_strain_preferred'].unique().astype(str))\n",
    "        print('\\t\\t----------', subject, '----------')\n",
    "        for strain in strains:\n",
    "            if strain != 'None':\n",
    "                data = sub_data[sub_data['virus_strain_preferred']==strain]\n",
    "                data.plot.scatter(x='study_time_collected',y='value_preferred', c= 'DarkBlue', title =strain)\n",
    "                plt.show();\n",
    "                plt.close()\n",
    "        print('--------------------------------------------------------')\n",
    "\n"
   ]
  },
  {
   "cell_type": "markdown",
   "metadata": {
    "collapsed": true
   },
   "source": [
    "%%time\n",
    "use this one for inspiration\n",
    "studies = sorted(hai_result['study_accession'].unique())\n",
    "for study in studies:\n",
    "    print('\\t\\t===========', study, '===========')\n",
    "    df = hai_result.loc[hai_result['study_accession'] == study]\n",
    "    subjects = sorted(df['subject_accession'].unique())\n",
    "    for subject in subjects:\n",
    "        \n",
    "        sub_data = df[df['subject_accession']==subject]\n",
    "        strains = sorted(sub_data['virus_strain_preferred'].unique().astype(str))\n",
    "        print('\\t\\t----------', subject, '----------')\n",
    "        for strain in strains:\n",
    "            if strain != 'None':\n",
    "                data = sub_data[sub_data['virus_strain_preferred']==strain]\n",
    "                data.plot.scatter(x='study_time_collected',y='value_preferred', c= 'DarkBlue', title =strain)\n",
    "                plt.show();\n",
    "                plt.close()\n",
    "        print('--------------------------------------------------------')"
   ]
  },
  {
   "cell_type": "markdown",
   "metadata": {},
   "source": [
    "'''\n",
    "temp = pd\n",
    "for i in hai_result:\n",
    "    iterate thru hai result\n",
    "    check if the day is 0 \n",
    "        if so change the list of values\n",
    "        if not, add the values to the list\n",
    "    get geometric mean of the list \n",
    "    add that to the studies page\n",
    "    litlit\n",
    "'''\n",
    "studies = sorted(hai_result['study_accession'].unique())\n",
    "means = []\n",
    "\n",
    "for study in studies:\n",
    "    print('\\t\\t===========', study, '===========')\n",
    "    df = hai_result.loc[hai_result['study_accession'] == study]\n",
    "    subjects = sorted(df['subject_accession'].unique())\n",
    "    for subject in subjects:\n",
    "#         print(subject['study_accession'])\n",
    "        temp = df[df['subject_accession']]"
   ]
  },
  {
   "cell_type": "code",
   "execution_count": null,
   "metadata": {
    "collapsed": true
   },
   "outputs": [],
   "source": [
    "\n",
    "\n"
   ]
  }
 ],
 "metadata": {
  "kernelspec": {
   "display_name": "Python 3",
   "language": "python",
   "name": "python3"
  },
  "language_info": {
   "codemirror_mode": {
    "name": "ipython",
    "version": 3
   },
   "file_extension": ".py",
   "mimetype": "text/x-python",
   "name": "python",
   "nbconvert_exporter": "python",
   "pygments_lexer": "ipython3",
   "version": "3.6.1"
  }
 },
 "nbformat": 4,
 "nbformat_minor": 2
}
